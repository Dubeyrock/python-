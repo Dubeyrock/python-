{
 "cells": [
  {
   "cell_type": "markdown",
   "id": "f77f50d0",
   "metadata": {},
   "source": [
    "# data collection "
   ]
  },
  {
   "cell_type": "code",
   "execution_count": 1,
   "id": "f3ed5143",
   "metadata": {},
   "outputs": [],
   "source": [
    "a = 10"
   ]
  },
  {
   "cell_type": "code",
   "execution_count": 2,
   "id": "348194ab",
   "metadata": {},
   "outputs": [
    {
     "data": {
      "text/plain": [
       "10"
      ]
     },
     "execution_count": 2,
     "metadata": {},
     "output_type": "execute_result"
    }
   ],
   "source": [
    "a"
   ]
  },
  {
   "cell_type": "code",
   "execution_count": 4,
   "id": "b0232068",
   "metadata": {},
   "outputs": [],
   "source": [
    "# type of data collection \n",
    "\n",
    "# list\n",
    "# tuple\n",
    "# dict\n",
    "# set\n",
    "\n",
    "# list\n",
    "a = [10,22,29,339,33,39,393]"
   ]
  },
  {
   "cell_type": "code",
   "execution_count": 5,
   "id": "1b50177d",
   "metadata": {},
   "outputs": [
    {
     "data": {
      "text/plain": [
       "[10, 22, 29, 339, 33, 39, 393]"
      ]
     },
     "execution_count": 5,
     "metadata": {},
     "output_type": "execute_result"
    }
   ],
   "source": [
    "a"
   ]
  },
  {
   "cell_type": "code",
   "execution_count": 6,
   "id": "d7f49291",
   "metadata": {},
   "outputs": [
    {
     "data": {
      "text/plain": [
       "list"
      ]
     },
     "execution_count": 6,
     "metadata": {},
     "output_type": "execute_result"
    }
   ],
   "source": [
    "type(a)"
   ]
  },
  {
   "cell_type": "code",
   "execution_count": 1,
   "id": "665c50d7",
   "metadata": {},
   "outputs": [],
   "source": [
    "x = [22, 22,22,33,44,66,788,88888,6666]"
   ]
  },
  {
   "cell_type": "code",
   "execution_count": 2,
   "id": "a9b21826",
   "metadata": {},
   "outputs": [
    {
     "data": {
      "text/plain": [
       "[22, 22, 22, 33, 44, 66, 788, 88888, 6666]"
      ]
     },
     "execution_count": 2,
     "metadata": {},
     "output_type": "execute_result"
    }
   ],
   "source": [
    "x"
   ]
  },
  {
   "cell_type": "code",
   "execution_count": 3,
   "id": "b09d5e83",
   "metadata": {},
   "outputs": [
    {
     "data": {
      "text/plain": [
       "list"
      ]
     },
     "execution_count": 3,
     "metadata": {},
     "output_type": "execute_result"
    }
   ],
   "source": [
    "type(x)"
   ]
  },
  {
   "cell_type": "code",
   "execution_count": 4,
   "id": "f1e887e5",
   "metadata": {},
   "outputs": [],
   "source": [
    "# string \n",
    "a =['22', 'hello python', 'python']"
   ]
  },
  {
   "cell_type": "code",
   "execution_count": 5,
   "id": "6b704071",
   "metadata": {},
   "outputs": [
    {
     "data": {
      "text/plain": [
       "['22', 'hello python', 'python']"
      ]
     },
     "execution_count": 5,
     "metadata": {},
     "output_type": "execute_result"
    }
   ],
   "source": [
    "a"
   ]
  },
  {
   "cell_type": "code",
   "execution_count": 6,
   "id": "f739bf41",
   "metadata": {},
   "outputs": [
    {
     "data": {
      "text/plain": [
       "list"
      ]
     },
     "execution_count": 6,
     "metadata": {},
     "output_type": "execute_result"
    }
   ],
   "source": [
    "type(a)"
   ]
  },
  {
   "cell_type": "code",
   "execution_count": 23,
   "id": "347ae132",
   "metadata": {},
   "outputs": [],
   "source": [
    "b = [22, 22,22,33,44,66,788,88888,6666, 'hello python', 'python', True, 34.9, 33.1]"
   ]
  },
  {
   "cell_type": "code",
   "execution_count": 9,
   "id": "a99de91b",
   "metadata": {},
   "outputs": [
    {
     "data": {
      "text/plain": [
       "[22,\n",
       " 22,\n",
       " 22,\n",
       " 33,\n",
       " 44,\n",
       " 66,\n",
       " 788,\n",
       " 88888,\n",
       " 6666,\n",
       " 'hello python',\n",
       " 'python',\n",
       " True,\n",
       " 34.9,\n",
       " 33.1]"
      ]
     },
     "execution_count": 9,
     "metadata": {},
     "output_type": "execute_result"
    }
   ],
   "source": [
    "b"
   ]
  },
  {
   "cell_type": "code",
   "execution_count": 12,
   "id": "79ad12df",
   "metadata": {},
   "outputs": [
    {
     "data": {
      "text/plain": [
       "14"
      ]
     },
     "execution_count": 12,
     "metadata": {},
     "output_type": "execute_result"
    }
   ],
   "source": [
    "len(x)----------> 1\n",
    "index ----------->0"
   ]
  },
  {
   "cell_type": "code",
   "execution_count": 18,
   "id": "3e67d4aa",
   "metadata": {},
   "outputs": [
    {
     "data": {
      "text/plain": [
       "'phyics'"
      ]
     },
     "execution_count": 18,
     "metadata": {},
     "output_type": "execute_result"
    }
   ],
   "source": [
    "# min & max \n",
    "min(x)\n"
   ]
  },
  {
   "cell_type": "code",
   "execution_count": 20,
   "id": "76dd816d",
   "metadata": {},
   "outputs": [
    {
     "data": {
      "text/plain": [
       "-22"
      ]
     },
     "execution_count": 20,
     "metadata": {},
     "output_type": "execute_result"
    }
   ],
   "source": [
    "x = [33,44,55,66, 8,-22,4,23]\n",
    "min(x)"
   ]
  },
  {
   "cell_type": "code",
   "execution_count": 21,
   "id": "7c3a1f44",
   "metadata": {},
   "outputs": [
    {
     "data": {
      "text/plain": [
       "66"
      ]
     },
     "execution_count": 21,
     "metadata": {},
     "output_type": "execute_result"
    }
   ],
   "source": [
    "max(x)"
   ]
  },
  {
   "cell_type": "markdown",
   "id": "2c19a6b0",
   "metadata": {},
   "source": [
    "# Slicing with index"
   ]
  },
  {
   "cell_type": "code",
   "execution_count": 24,
   "id": "2ee57c79",
   "metadata": {},
   "outputs": [
    {
     "data": {
      "text/plain": [
       "[22,\n",
       " 22,\n",
       " 22,\n",
       " 33,\n",
       " 44,\n",
       " 66,\n",
       " 788,\n",
       " 88888,\n",
       " 6666,\n",
       " 'hello python',\n",
       " 'python',\n",
       " True,\n",
       " 34.9,\n",
       " 33.1]"
      ]
     },
     "execution_count": 24,
     "metadata": {},
     "output_type": "execute_result"
    }
   ],
   "source": [
    "b"
   ]
  },
  {
   "cell_type": "code",
   "execution_count": 26,
   "id": "7345d6a1",
   "metadata": {},
   "outputs": [
    {
     "data": {
      "text/plain": [
       "22"
      ]
     },
     "execution_count": 26,
     "metadata": {},
     "output_type": "execute_result"
    }
   ],
   "source": [
    "b[0]"
   ]
  },
  {
   "cell_type": "code",
   "execution_count": 27,
   "id": "77278d9c",
   "metadata": {},
   "outputs": [
    {
     "data": {
      "text/plain": [
       "33"
      ]
     },
     "execution_count": 27,
     "metadata": {},
     "output_type": "execute_result"
    }
   ],
   "source": [
    "b[3]"
   ]
  },
  {
   "cell_type": "code",
   "execution_count": 28,
   "id": "b276f6c5",
   "metadata": {},
   "outputs": [
    {
     "data": {
      "text/plain": [
       "88888"
      ]
     },
     "execution_count": 28,
     "metadata": {},
     "output_type": "execute_result"
    }
   ],
   "source": [
    "b[7]"
   ]
  },
  {
   "cell_type": "code",
   "execution_count": 29,
   "id": "fdebdea9",
   "metadata": {},
   "outputs": [
    {
     "data": {
      "text/plain": [
       "'python'"
      ]
     },
     "execution_count": 29,
     "metadata": {},
     "output_type": "execute_result"
    }
   ],
   "source": [
    "b[10]"
   ]
  },
  {
   "cell_type": "code",
   "execution_count": 30,
   "id": "9ff708b5",
   "metadata": {},
   "outputs": [],
   "source": [
    "# range function "
   ]
  },
  {
   "cell_type": "code",
   "execution_count": 31,
   "id": "9d395e58",
   "metadata": {},
   "outputs": [],
   "source": [
    "a = 10"
   ]
  },
  {
   "cell_type": "code",
   "execution_count": 32,
   "id": "41e8d922",
   "metadata": {},
   "outputs": [
    {
     "name": "stdout",
     "output_type": "stream",
     "text": [
      "10\n"
     ]
    }
   ],
   "source": [
    "print(a)"
   ]
  },
  {
   "cell_type": "code",
   "execution_count": 33,
   "id": "99f9980a",
   "metadata": {},
   "outputs": [],
   "source": [
    "#list---------->\n",
    "x = [12,34,67,89,33,90,25,78]"
   ]
  },
  {
   "cell_type": "code",
   "execution_count": 34,
   "id": "1c86b911",
   "metadata": {},
   "outputs": [
    {
     "data": {
      "text/plain": [
       "[12, 34, 67, 89, 33, 90, 25, 78]"
      ]
     },
     "execution_count": 34,
     "metadata": {},
     "output_type": "execute_result"
    }
   ],
   "source": [
    "x"
   ]
  },
  {
   "cell_type": "code",
   "execution_count": 35,
   "id": "5671fe71",
   "metadata": {},
   "outputs": [
    {
     "data": {
      "text/plain": [
       "list"
      ]
     },
     "execution_count": 35,
     "metadata": {},
     "output_type": "execute_result"
    }
   ],
   "source": [
    "type(x)\n"
   ]
  },
  {
   "cell_type": "code",
   "execution_count": 36,
   "id": "bfd95977",
   "metadata": {},
   "outputs": [],
   "source": [
    "x = ['hello bhai','python','123','me']\n"
   ]
  },
  {
   "cell_type": "code",
   "execution_count": 37,
   "id": "376e63d9",
   "metadata": {},
   "outputs": [
    {
     "data": {
      "text/plain": [
       "['hello bhai', 'python', '123', 'me']"
      ]
     },
     "execution_count": 37,
     "metadata": {},
     "output_type": "execute_result"
    }
   ],
   "source": [
    "x"
   ]
  },
  {
   "cell_type": "code",
   "execution_count": 38,
   "id": "ab62f920",
   "metadata": {},
   "outputs": [
    {
     "data": {
      "text/plain": [
       "list"
      ]
     },
     "execution_count": 38,
     "metadata": {},
     "output_type": "execute_result"
    }
   ],
   "source": [
    "type(x)"
   ]
  },
  {
   "cell_type": "code",
   "execution_count": 39,
   "id": "1d049f89",
   "metadata": {},
   "outputs": [],
   "source": [
    "x = [112,89,6,'hello python','machine Learning','boy',34.5,78.2,True]"
   ]
  },
  {
   "cell_type": "code",
   "execution_count": 40,
   "id": "9d1c24ea",
   "metadata": {},
   "outputs": [
    {
     "data": {
      "text/plain": [
       "[112, 89, 6, 'hello python', 'machine Learning', 'boy', 34.5, 78.2, True]"
      ]
     },
     "execution_count": 40,
     "metadata": {},
     "output_type": "execute_result"
    }
   ],
   "source": [
    "x"
   ]
  },
  {
   "cell_type": "code",
   "execution_count": 41,
   "id": "4c9cb835",
   "metadata": {},
   "outputs": [
    {
     "data": {
      "text/plain": [
       "list"
      ]
     },
     "execution_count": 41,
     "metadata": {},
     "output_type": "execute_result"
    }
   ],
   "source": [
    "type(x)"
   ]
  },
  {
   "cell_type": "markdown",
   "id": "eb4791e7",
   "metadata": {},
   "source": [
    "# slicing & indexing"
   ]
  },
  {
   "cell_type": "code",
   "execution_count": 42,
   "id": "2697b720",
   "metadata": {},
   "outputs": [
    {
     "data": {
      "text/plain": [
       "[112, 89, 6, 'hello python', 'machine Learning', 'boy', 34.5, 78.2, True]"
      ]
     },
     "execution_count": 42,
     "metadata": {},
     "output_type": "execute_result"
    }
   ],
   "source": [
    "x"
   ]
  },
  {
   "cell_type": "code",
   "execution_count": 43,
   "id": "6b39ff4e",
   "metadata": {},
   "outputs": [
    {
     "data": {
      "text/plain": [
       "6"
      ]
     },
     "execution_count": 43,
     "metadata": {},
     "output_type": "execute_result"
    }
   ],
   "source": [
    "x[2]"
   ]
  },
  {
   "cell_type": "code",
   "execution_count": 44,
   "id": "7e2bce4e",
   "metadata": {},
   "outputs": [
    {
     "data": {
      "text/plain": [
       "'machine Learning'"
      ]
     },
     "execution_count": 44,
     "metadata": {},
     "output_type": "execute_result"
    }
   ],
   "source": [
    "#wap to slice ml from x.\n",
    "x[4]"
   ]
  },
  {
   "cell_type": "code",
   "execution_count": 45,
   "id": "389ab048",
   "metadata": {},
   "outputs": [
    {
     "data": {
      "text/plain": [
       "6"
      ]
     },
     "execution_count": 45,
     "metadata": {},
     "output_type": "execute_result"
    }
   ],
   "source": [
    "x[2]"
   ]
  },
  {
   "cell_type": "code",
   "execution_count": 46,
   "id": "ad0fdcc1",
   "metadata": {},
   "outputs": [
    {
     "data": {
      "text/plain": [
       "34.5"
      ]
     },
     "execution_count": 46,
     "metadata": {},
     "output_type": "execute_result"
    }
   ],
   "source": [
    "x[6]"
   ]
  },
  {
   "cell_type": "code",
   "execution_count": 47,
   "id": "390841eb",
   "metadata": {},
   "outputs": [
    {
     "data": {
      "text/plain": [
       "[6, 'hello python', 'machine Learning', 'boy', 34.5]"
      ]
     },
     "execution_count": 47,
     "metadata": {},
     "output_type": "execute_result"
    }
   ],
   "source": [
    "x[2:7]"
   ]
  },
  {
   "cell_type": "code",
   "execution_count": 48,
   "id": "29dbfd1e",
   "metadata": {},
   "outputs": [
    {
     "data": {
      "text/plain": [
       "[6, 34.5]"
      ]
     },
     "execution_count": 48,
     "metadata": {},
     "output_type": "execute_result"
    }
   ],
   "source": [
    "x[2:7:4]"
   ]
  },
  {
   "cell_type": "code",
   "execution_count": 49,
   "id": "d0741b94",
   "metadata": {},
   "outputs": [
    {
     "data": {
      "text/plain": [
       "[112, 6, 'machine Learning', 34.5, True]"
      ]
     },
     "execution_count": 49,
     "metadata": {},
     "output_type": "execute_result"
    }
   ],
   "source": [
    "x[::2]"
   ]
  },
  {
   "cell_type": "code",
   "execution_count": 50,
   "id": "5dc262e4",
   "metadata": {},
   "outputs": [
    {
     "data": {
      "text/plain": [
       "[112, 89, 6, 'hello python', 'machine Learning', 'boy', 34.5, 78.2, True]"
      ]
     },
     "execution_count": 50,
     "metadata": {},
     "output_type": "execute_result"
    }
   ],
   "source": [
    "x[:]"
   ]
  },
  {
   "cell_type": "code",
   "execution_count": 51,
   "id": "f9434485",
   "metadata": {},
   "outputs": [
    {
     "data": {
      "text/plain": [
       "[112, 89, 6, 'hello python', 'machine Learning', 'boy', 34.5, 78.2, True]"
      ]
     },
     "execution_count": 51,
     "metadata": {},
     "output_type": "execute_result"
    }
   ],
   "source": [
    "# Mutable or Immutable----->\n",
    "x"
   ]
  },
  {
   "cell_type": "code",
   "execution_count": 52,
   "id": "58923adb",
   "metadata": {},
   "outputs": [],
   "source": [
    "x = [2]"
   ]
  },
  {
   "cell_type": "code",
   "execution_count": 53,
   "id": "2cfe8a08",
   "metadata": {},
   "outputs": [
    {
     "data": {
      "text/plain": [
       "[2]"
      ]
     },
     "execution_count": 53,
     "metadata": {},
     "output_type": "execute_result"
    }
   ],
   "source": [
    "x"
   ]
  },
  {
   "cell_type": "code",
   "execution_count": 54,
   "id": "870d71af",
   "metadata": {},
   "outputs": [],
   "source": [
    "# mutable/ changeable\n",
    "# ordered way\n",
    "# index\n",
    "# duplicacy allowed."
   ]
  }
 ],
 "metadata": {
  "kernelspec": {
   "display_name": "Python 3 (ipykernel)",
   "language": "python",
   "name": "python3"
  },
  "language_info": {
   "codemirror_mode": {
    "name": "ipython",
    "version": 3
   },
   "file_extension": ".py",
   "mimetype": "text/x-python",
   "name": "python",
   "nbconvert_exporter": "python",
   "pygments_lexer": "ipython3",
   "version": "3.9.7"
  }
 },
 "nbformat": 4,
 "nbformat_minor": 5
}
