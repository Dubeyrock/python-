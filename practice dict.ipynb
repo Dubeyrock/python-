{
 "cells": [
  {
   "cell_type": "code",
   "execution_count": 2,
   "id": "b6bc568f",
   "metadata": {},
   "outputs": [],
   "source": [
    "# item\n",
    "#key\n",
    "#value\n",
    "#update\n",
    "\n",
    "x = {\n",
    "    'name':'seth rollins',\n",
    "    'age': 40,\n",
    "    'salary':30000\n",
    "}"
   ]
  },
  {
   "cell_type": "code",
   "execution_count": 3,
   "id": "b2fd6d97",
   "metadata": {},
   "outputs": [
    {
     "data": {
      "text/plain": [
       "{'name': 'seth rollins', 'age': 40, 'salary': 30000}"
      ]
     },
     "execution_count": 3,
     "metadata": {},
     "output_type": "execute_result"
    }
   ],
   "source": [
    "x"
   ]
  },
  {
   "cell_type": "code",
   "execution_count": 4,
   "id": "d9fe0820",
   "metadata": {},
   "outputs": [
    {
     "data": {
      "text/plain": [
       "dict"
      ]
     },
     "execution_count": 4,
     "metadata": {},
     "output_type": "execute_result"
    }
   ],
   "source": [
    "type(x)"
   ]
  },
  {
   "cell_type": "code",
   "execution_count": 6,
   "id": "80ff6b76",
   "metadata": {},
   "outputs": [
    {
     "data": {
      "text/plain": [
       "dict_keys(['name', 'age', 'salary'])"
      ]
     },
     "execution_count": 6,
     "metadata": {},
     "output_type": "execute_result"
    }
   ],
   "source": [
    "#keys\n",
    "x.keys()"
   ]
  },
  {
   "cell_type": "code",
   "execution_count": 7,
   "id": "a8b36483",
   "metadata": {},
   "outputs": [
    {
     "data": {
      "text/plain": [
       "dict_values(['seth rollins', 40, 30000])"
      ]
     },
     "execution_count": 7,
     "metadata": {},
     "output_type": "execute_result"
    }
   ],
   "source": [
    "x.values()"
   ]
  },
  {
   "cell_type": "code",
   "execution_count": 8,
   "id": "d5e7de1c",
   "metadata": {},
   "outputs": [
    {
     "data": {
      "text/plain": [
       "dict_items([('name', 'seth rollins'), ('age', 40), ('salary', 30000)])"
      ]
     },
     "execution_count": 8,
     "metadata": {},
     "output_type": "execute_result"
    }
   ],
   "source": [
    "x.items()"
   ]
  },
  {
   "cell_type": "code",
   "execution_count": 16,
   "id": "e290c175",
   "metadata": {},
   "outputs": [],
   "source": [
    "y = {\n",
    "    'age':23\n",
    "}"
   ]
  },
  {
   "cell_type": "code",
   "execution_count": 17,
   "id": "34db7a45",
   "metadata": {},
   "outputs": [],
   "source": [
    "x.update(y)"
   ]
  },
  {
   "cell_type": "code",
   "execution_count": 18,
   "id": "204120f6",
   "metadata": {},
   "outputs": [
    {
     "data": {
      "text/plain": [
       "{'name': 'seth rollins', 'age': 23, 'salary': 30000}"
      ]
     },
     "execution_count": 18,
     "metadata": {},
     "output_type": "execute_result"
    }
   ],
   "source": [
    "x"
   ]
  },
  {
   "cell_type": "code",
   "execution_count": 22,
   "id": "59f614f2",
   "metadata": {},
   "outputs": [],
   "source": [
    "z = {\n",
    "    'hobby':'wrestler'\n",
    "}"
   ]
  },
  {
   "cell_type": "code",
   "execution_count": 23,
   "id": "0bf74a8e",
   "metadata": {},
   "outputs": [],
   "source": [
    "x.update(z)"
   ]
  },
  {
   "cell_type": "code",
   "execution_count": 24,
   "id": "2bc749cb",
   "metadata": {},
   "outputs": [
    {
     "data": {
      "text/plain": [
       "{'name': 'seth rollins', 'age': 23, 'salary': 30000, 'hobby': 'wrestler'}"
      ]
     },
     "execution_count": 24,
     "metadata": {},
     "output_type": "execute_result"
    }
   ],
   "source": [
    "x"
   ]
  },
  {
   "cell_type": "code",
   "execution_count": 25,
   "id": "efb3a64a",
   "metadata": {},
   "outputs": [],
   "source": [
    "k = {\n",
    "    'phone':'788786798978'\n",
    "}"
   ]
  },
  {
   "cell_type": "code",
   "execution_count": 26,
   "id": "f85c165b",
   "metadata": {},
   "outputs": [],
   "source": [
    "x.update(k)"
   ]
  },
  {
   "cell_type": "code",
   "execution_count": 27,
   "id": "f95558d1",
   "metadata": {},
   "outputs": [
    {
     "data": {
      "text/plain": [
       "{'name': 'seth rollins',\n",
       " 'age': 23,\n",
       " 'salary': 30000,\n",
       " 'hobby': 'wrestler',\n",
       " 'phone': '788786798978'}"
      ]
     },
     "execution_count": 27,
     "metadata": {},
     "output_type": "execute_result"
    }
   ],
   "source": [
    "x"
   ]
  },
  {
   "cell_type": "code",
   "execution_count": 28,
   "id": "8f65e48f",
   "metadata": {},
   "outputs": [],
   "source": [
    "N = {\n",
    "    'Address':'USA'\n",
    "}"
   ]
  },
  {
   "cell_type": "code",
   "execution_count": 29,
   "id": "123c5c96",
   "metadata": {},
   "outputs": [],
   "source": [
    "x.update(N)"
   ]
  },
  {
   "cell_type": "code",
   "execution_count": 30,
   "id": "44761ad0",
   "metadata": {},
   "outputs": [
    {
     "data": {
      "text/plain": [
       "{'name': 'seth rollins',\n",
       " 'age': 23,\n",
       " 'salary': 30000,\n",
       " 'hobby': 'wrestler',\n",
       " 'phone': '788786798978',\n",
       " 'Address': 'USA'}"
      ]
     },
     "execution_count": 30,
     "metadata": {},
     "output_type": "execute_result"
    }
   ],
   "source": [
    "x"
   ]
  },
  {
   "cell_type": "code",
   "execution_count": 31,
   "id": "12f0d8ba",
   "metadata": {},
   "outputs": [
    {
     "data": {
      "text/plain": [
       "{'Address': 'USA'}"
      ]
     },
     "execution_count": 31,
     "metadata": {},
     "output_type": "execute_result"
    }
   ],
   "source": [
    "N"
   ]
  },
  {
   "cell_type": "code",
   "execution_count": 32,
   "id": "f71037be",
   "metadata": {},
   "outputs": [
    {
     "data": {
      "text/plain": [
       "{'phone': '788786798978'}"
      ]
     },
     "execution_count": 32,
     "metadata": {},
     "output_type": "execute_result"
    }
   ],
   "source": [
    "k"
   ]
  },
  {
   "cell_type": "code",
   "execution_count": 33,
   "id": "75740477",
   "metadata": {},
   "outputs": [],
   "source": [
    "print=('[[[[[[[[]]]]]]]')"
   ]
  },
  {
   "cell_type": "code",
   "execution_count": 34,
   "id": "cb09df26",
   "metadata": {},
   "outputs": [
    {
     "data": {
      "text/plain": [
       "'[[[[[[[[]]]]]]]'"
      ]
     },
     "execution_count": 34,
     "metadata": {},
     "output_type": "execute_result"
    }
   ],
   "source": [
    "print"
   ]
  },
  {
   "cell_type": "code",
   "execution_count": null,
   "id": "ca0f62e6",
   "metadata": {},
   "outputs": [],
   "source": []
  }
 ],
 "metadata": {
  "kernelspec": {
   "display_name": "Python 3 (ipykernel)",
   "language": "python",
   "name": "python3"
  },
  "language_info": {
   "codemirror_mode": {
    "name": "ipython",
    "version": 3
   },
   "file_extension": ".py",
   "mimetype": "text/x-python",
   "name": "python",
   "nbconvert_exporter": "python",
   "pygments_lexer": "ipython3",
   "version": "3.9.7"
  }
 },
 "nbformat": 4,
 "nbformat_minor": 5
}
