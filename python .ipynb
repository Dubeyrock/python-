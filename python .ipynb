{
 "cells": [
  {
   "cell_type": "code",
   "execution_count": 1,
   "id": "10084bd1",
   "metadata": {},
   "outputs": [
    {
     "name": "stdout",
     "output_type": "stream",
     "text": [
      "hello world\n"
     ]
    }
   ],
   "source": [
    "print(\"hello world\")"
   ]
  },
  {
   "cell_type": "markdown",
   "id": "4d41a1aa",
   "metadata": {},
   "source": [
    "# variables in python"
   ]
  },
  {
   "cell_type": "code",
   "execution_count": 2,
   "id": "4a73729c",
   "metadata": {},
   "outputs": [],
   "source": [
    "student = \" sam\""
   ]
  },
  {
   "cell_type": "code",
   "execution_count": 3,
   "id": "b51675a9",
   "metadata": {},
   "outputs": [
    {
     "data": {
      "text/plain": [
       "' sam'"
      ]
     },
     "execution_count": 3,
     "metadata": {},
     "output_type": "execute_result"
    }
   ],
   "source": [
    "student"
   ]
  },
  {
   "cell_type": "code",
   "execution_count": 4,
   "id": "c3423431",
   "metadata": {},
   "outputs": [],
   "source": [
    "student = \"matts\""
   ]
  },
  {
   "cell_type": "code",
   "execution_count": 5,
   "id": "34125fd7",
   "metadata": {},
   "outputs": [
    {
     "data": {
      "text/plain": [
       "'matts'"
      ]
     },
     "execution_count": 5,
     "metadata": {},
     "output_type": "execute_result"
    }
   ],
   "source": [
    "student"
   ]
  },
  {
   "cell_type": "code",
   "execution_count": 6,
   "id": "41891061",
   "metadata": {},
   "outputs": [],
   "source": [
    "student = \"bob\""
   ]
  },
  {
   "cell_type": "code",
   "execution_count": 7,
   "id": "5b1e4283",
   "metadata": {},
   "outputs": [
    {
     "data": {
      "text/plain": [
       "'bob'"
      ]
     },
     "execution_count": 7,
     "metadata": {},
     "output_type": "execute_result"
    }
   ],
   "source": [
    "student"
   ]
  },
  {
   "cell_type": "markdown",
   "id": "6aa015cb",
   "metadata": {},
   "source": [
    "# data type in python"
   ]
  },
  {
   "cell_type": "code",
   "execution_count": 9,
   "id": "8198a239",
   "metadata": {},
   "outputs": [
    {
     "data": {
      "text/plain": [
       "23"
      ]
     },
     "execution_count": 9,
     "metadata": {},
     "output_type": "execute_result"
    }
   ],
   "source": [
    "# int, float, boolean , string\n",
    "\n",
    "a1 = 23;\n",
    "a1"
   ]
  },
  {
   "cell_type": "code",
   "execution_count": 11,
   "id": "b79b0cd2",
   "metadata": {},
   "outputs": [
    {
     "data": {
      "text/plain": [
       "int"
      ]
     },
     "execution_count": 11,
     "metadata": {},
     "output_type": "execute_result"
    }
   ],
   "source": [
    "type(a1)"
   ]
  },
  {
   "cell_type": "code",
   "execution_count": 12,
   "id": "0ba481ec",
   "metadata": {},
   "outputs": [
    {
     "data": {
      "text/plain": [
       "3.3"
      ]
     },
     "execution_count": 12,
     "metadata": {},
     "output_type": "execute_result"
    }
   ],
   "source": [
    "b1 = 3.3;\n",
    "b1"
   ]
  },
  {
   "cell_type": "code",
   "execution_count": 13,
   "id": "b319721f",
   "metadata": {},
   "outputs": [
    {
     "data": {
      "text/plain": [
       "float"
      ]
     },
     "execution_count": 13,
     "metadata": {},
     "output_type": "execute_result"
    }
   ],
   "source": [
    "type(b1)"
   ]
  },
  {
   "cell_type": "code",
   "execution_count": 14,
   "id": "06d2f12a",
   "metadata": {},
   "outputs": [
    {
     "data": {
      "text/plain": [
       "True"
      ]
     },
     "execution_count": 14,
     "metadata": {},
     "output_type": "execute_result"
    }
   ],
   "source": [
    "a2 = True\n",
    "a2"
   ]
  },
  {
   "cell_type": "code",
   "execution_count": 15,
   "id": "9ec18efd",
   "metadata": {},
   "outputs": [
    {
     "data": {
      "text/plain": [
       "bool"
      ]
     },
     "execution_count": 15,
     "metadata": {},
     "output_type": "execute_result"
    }
   ],
   "source": [
    "type(a2)"
   ]
  },
  {
   "cell_type": "markdown",
   "id": "32e2b33b",
   "metadata": {},
   "source": [
    "# operator in python"
   ]
  },
  {
   "cell_type": "code",
   "execution_count": 16,
   "id": "18318f72",
   "metadata": {},
   "outputs": [],
   "source": [
    "# arithmetic operator"
   ]
  },
  {
   "cell_type": "code",
   "execution_count": 17,
   "id": "689c75d4",
   "metadata": {},
   "outputs": [],
   "source": [
    "# +,-,*,/"
   ]
  },
  {
   "cell_type": "code",
   "execution_count": 18,
   "id": "0a80ec7b",
   "metadata": {},
   "outputs": [],
   "source": [
    "a =33\n",
    "b =44"
   ]
  },
  {
   "cell_type": "code",
   "execution_count": 19,
   "id": "e658bb27",
   "metadata": {},
   "outputs": [
    {
     "data": {
      "text/plain": [
       "(33, 44)"
      ]
     },
     "execution_count": 19,
     "metadata": {},
     "output_type": "execute_result"
    }
   ],
   "source": [
    "a,b"
   ]
  },
  {
   "cell_type": "code",
   "execution_count": 20,
   "id": "9a83aaa6",
   "metadata": {},
   "outputs": [
    {
     "data": {
      "text/plain": [
       "77"
      ]
     },
     "execution_count": 20,
     "metadata": {},
     "output_type": "execute_result"
    }
   ],
   "source": [
    "a+b"
   ]
  },
  {
   "cell_type": "code",
   "execution_count": 21,
   "id": "b0d57e58",
   "metadata": {},
   "outputs": [
    {
     "data": {
      "text/plain": [
       "-11"
      ]
     },
     "execution_count": 21,
     "metadata": {},
     "output_type": "execute_result"
    }
   ],
   "source": [
    "a-b"
   ]
  },
  {
   "cell_type": "code",
   "execution_count": 22,
   "id": "dee9dec3",
   "metadata": {},
   "outputs": [
    {
     "data": {
      "text/plain": [
       "1452"
      ]
     },
     "execution_count": 22,
     "metadata": {},
     "output_type": "execute_result"
    }
   ],
   "source": [
    "a*b"
   ]
  },
  {
   "cell_type": "code",
   "execution_count": 23,
   "id": "e1a97c56",
   "metadata": {},
   "outputs": [
    {
     "data": {
      "text/plain": [
       "0.75"
      ]
     },
     "execution_count": 23,
     "metadata": {},
     "output_type": "execute_result"
    }
   ],
   "source": [
    "a/b"
   ]
  },
  {
   "cell_type": "code",
   "execution_count": 24,
   "id": "0114f725",
   "metadata": {},
   "outputs": [],
   "source": [
    "# relational operator "
   ]
  },
  {
   "cell_type": "code",
   "execution_count": 25,
   "id": "27a6a71d",
   "metadata": {},
   "outputs": [],
   "source": [
    "# <,>,!=,==,"
   ]
  },
  {
   "cell_type": "code",
   "execution_count": 26,
   "id": "edf1b584",
   "metadata": {},
   "outputs": [],
   "source": [
    "a = 88\n",
    "b = 34"
   ]
  },
  {
   "cell_type": "code",
   "execution_count": 27,
   "id": "f2de380c",
   "metadata": {},
   "outputs": [
    {
     "data": {
      "text/plain": [
       "True"
      ]
     },
     "execution_count": 27,
     "metadata": {},
     "output_type": "execute_result"
    }
   ],
   "source": [
    "a>b"
   ]
  },
  {
   "cell_type": "code",
   "execution_count": 28,
   "id": "ca2eead5",
   "metadata": {},
   "outputs": [
    {
     "data": {
      "text/plain": [
       "False"
      ]
     },
     "execution_count": 28,
     "metadata": {},
     "output_type": "execute_result"
    }
   ],
   "source": [
    "a<b"
   ]
  },
  {
   "cell_type": "code",
   "execution_count": 29,
   "id": "b6f618dd",
   "metadata": {},
   "outputs": [
    {
     "data": {
      "text/plain": [
       "False"
      ]
     },
     "execution_count": 29,
     "metadata": {},
     "output_type": "execute_result"
    }
   ],
   "source": [
    "a==b"
   ]
  },
  {
   "cell_type": "code",
   "execution_count": 30,
   "id": "d43fed89",
   "metadata": {},
   "outputs": [],
   "source": [
    "# logical operator "
   ]
  },
  {
   "cell_type": "code",
   "execution_count": null,
   "id": "eca6c25c",
   "metadata": {},
   "outputs": [],
   "source": [
    "! |"
   ]
  },
  {
   "cell_type": "code",
   "execution_count": 32,
   "id": "82712d5b",
   "metadata": {},
   "outputs": [],
   "source": [
    "a = True\n",
    "b = False"
   ]
  },
  {
   "cell_type": "code",
   "execution_count": 33,
   "id": "c07392fe",
   "metadata": {},
   "outputs": [
    {
     "data": {
      "text/plain": [
       "True"
      ]
     },
     "execution_count": 33,
     "metadata": {},
     "output_type": "execute_result"
    }
   ],
   "source": [
    "a|b"
   ]
  },
  {
   "cell_type": "code",
   "execution_count": 34,
   "id": "1fa33fdd",
   "metadata": {},
   "outputs": [
    {
     "data": {
      "text/plain": [
       "True"
      ]
     },
     "execution_count": 34,
     "metadata": {},
     "output_type": "execute_result"
    }
   ],
   "source": [
    "b|a"
   ]
  },
  {
   "cell_type": "code",
   "execution_count": 35,
   "id": "28eded66",
   "metadata": {},
   "outputs": [],
   "source": [
    "# data structure in python \n",
    "# tuple // immutable data\n",
    "# list\n",
    "# dictionary\n",
    "#set "
   ]
  },
  {
   "cell_type": "code",
   "execution_count": 36,
   "id": "d8759b12",
   "metadata": {},
   "outputs": [],
   "source": [
    "# tuple ()\n",
    "tup3 = (1,True,8.9,5-7j)"
   ]
  },
  {
   "cell_type": "code",
   "execution_count": 37,
   "id": "26b7ef38",
   "metadata": {},
   "outputs": [
    {
     "data": {
      "text/plain": [
       "(1, True, 8.9, (5-7j))"
      ]
     },
     "execution_count": 37,
     "metadata": {},
     "output_type": "execute_result"
    }
   ],
   "source": [
    "tup3"
   ]
  },
  {
   "cell_type": "code",
   "execution_count": 38,
   "id": "8cadf6b9",
   "metadata": {},
   "outputs": [
    {
     "data": {
      "text/plain": [
       "tuple"
      ]
     },
     "execution_count": 38,
     "metadata": {},
     "output_type": "execute_result"
    }
   ],
   "source": [
    "type(tup3)"
   ]
  },
  {
   "cell_type": "code",
   "execution_count": 39,
   "id": "21191444",
   "metadata": {},
   "outputs": [
    {
     "data": {
      "text/plain": [
       "8.9"
      ]
     },
     "execution_count": 39,
     "metadata": {},
     "output_type": "execute_result"
    }
   ],
   "source": [
    "tup3[2]"
   ]
  },
  {
   "cell_type": "code",
   "execution_count": 42,
   "id": "d96452ed",
   "metadata": {},
   "outputs": [
    {
     "data": {
      "text/plain": [
       "4"
      ]
     },
     "execution_count": 42,
     "metadata": {},
     "output_type": "execute_result"
    }
   ],
   "source": [
    "len(tup3)"
   ]
  },
  {
   "cell_type": "code",
   "execution_count": 43,
   "id": "8836d20d",
   "metadata": {},
   "outputs": [],
   "source": [
    "tup1 = (3,4,6,6,7)\n",
    "tup2 = (3,8,9,19,2)"
   ]
  },
  {
   "cell_type": "code",
   "execution_count": 44,
   "id": "692cc850",
   "metadata": {},
   "outputs": [
    {
     "data": {
      "text/plain": [
       "((3, 4, 6, 6, 7), (3, 8, 9, 19, 2))"
      ]
     },
     "execution_count": 44,
     "metadata": {},
     "output_type": "execute_result"
    }
   ],
   "source": [
    "tup1,tup2"
   ]
  },
  {
   "cell_type": "code",
   "execution_count": 45,
   "id": "31ce9c66",
   "metadata": {},
   "outputs": [
    {
     "data": {
      "text/plain": [
       "(3, 4, 6, 6, 7)"
      ]
     },
     "execution_count": 45,
     "metadata": {},
     "output_type": "execute_result"
    }
   ],
   "source": [
    "tup1"
   ]
  },
  {
   "cell_type": "code",
   "execution_count": 46,
   "id": "d9e0cbef",
   "metadata": {},
   "outputs": [
    {
     "data": {
      "text/plain": [
       "(3, 8, 9, 19, 2)"
      ]
     },
     "execution_count": 46,
     "metadata": {},
     "output_type": "execute_result"
    }
   ],
   "source": [
    "tup2"
   ]
  },
  {
   "cell_type": "code",
   "execution_count": 47,
   "id": "a0523506",
   "metadata": {},
   "outputs": [
    {
     "data": {
      "text/plain": [
       "(3, 4, 6, 6, 7, 3, 8, 9, 19, 2)"
      ]
     },
     "execution_count": 47,
     "metadata": {},
     "output_type": "execute_result"
    }
   ],
   "source": [
    "tup1+tup2"
   ]
  },
  {
   "cell_type": "code",
   "execution_count": 48,
   "id": "13d4e32c",
   "metadata": {},
   "outputs": [
    {
     "data": {
      "text/plain": [
       "(3,\n",
       " 4,\n",
       " 6,\n",
       " 6,\n",
       " 7,\n",
       " 3,\n",
       " 4,\n",
       " 6,\n",
       " 6,\n",
       " 7,\n",
       " 3,\n",
       " 4,\n",
       " 6,\n",
       " 6,\n",
       " 7,\n",
       " 3,\n",
       " 4,\n",
       " 6,\n",
       " 6,\n",
       " 7,\n",
       " 3,\n",
       " 4,\n",
       " 6,\n",
       " 6,\n",
       " 7,\n",
       " 3,\n",
       " 4,\n",
       " 6,\n",
       " 6,\n",
       " 7,\n",
       " 3,\n",
       " 4,\n",
       " 6,\n",
       " 6,\n",
       " 7,\n",
       " 3,\n",
       " 4,\n",
       " 6,\n",
       " 6,\n",
       " 7,\n",
       " 3,\n",
       " 4,\n",
       " 6,\n",
       " 6,\n",
       " 7,\n",
       " 3,\n",
       " 4,\n",
       " 6,\n",
       " 6,\n",
       " 7)"
      ]
     },
     "execution_count": 48,
     "metadata": {},
     "output_type": "execute_result"
    }
   ],
   "source": [
    "tup1*10"
   ]
  },
  {
   "cell_type": "code",
   "execution_count": 49,
   "id": "67fea8f9",
   "metadata": {},
   "outputs": [
    {
     "data": {
      "text/plain": [
       "3"
      ]
     },
     "execution_count": 49,
     "metadata": {},
     "output_type": "execute_result"
    }
   ],
   "source": [
    "min(tup1)"
   ]
  },
  {
   "cell_type": "code",
   "execution_count": 50,
   "id": "e063c768",
   "metadata": {},
   "outputs": [
    {
     "data": {
      "text/plain": [
       "19"
      ]
     },
     "execution_count": 50,
     "metadata": {},
     "output_type": "execute_result"
    }
   ],
   "source": [
    "max(tup2)"
   ]
  },
  {
   "cell_type": "code",
   "execution_count": 51,
   "id": "d4ec8280",
   "metadata": {},
   "outputs": [],
   "source": [
    "# list // mutable data  defined a symbol [] "
   ]
  },
  {
   "cell_type": "code",
   "execution_count": 52,
   "id": "d0f16b00",
   "metadata": {},
   "outputs": [],
   "source": [
    "l2 = [3,5,'sparta',4.6,True,88.0,'python']"
   ]
  },
  {
   "cell_type": "code",
   "execution_count": 53,
   "id": "ada2d52d",
   "metadata": {},
   "outputs": [
    {
     "data": {
      "text/plain": [
       "[3, 5, 'sparta', 4.6, True, 88.0, 'python']"
      ]
     },
     "execution_count": 53,
     "metadata": {},
     "output_type": "execute_result"
    }
   ],
   "source": [
    "l2"
   ]
  },
  {
   "cell_type": "code",
   "execution_count": 55,
   "id": "9638e7f3",
   "metadata": {},
   "outputs": [
    {
     "data": {
      "text/plain": [
       "list"
      ]
     },
     "execution_count": 55,
     "metadata": {},
     "output_type": "execute_result"
    }
   ],
   "source": [
    "type(l2)"
   ]
  },
  {
   "cell_type": "code",
   "execution_count": 57,
   "id": "a6af7507",
   "metadata": {},
   "outputs": [
    {
     "data": {
      "text/plain": [
       "'python'"
      ]
     },
     "execution_count": 57,
     "metadata": {},
     "output_type": "execute_result"
    }
   ],
   "source": [
    "l2.pop()"
   ]
  }
 ],
 "metadata": {
  "kernelspec": {
   "display_name": "Python 3 (ipykernel)",
   "language": "python",
   "name": "python3"
  },
  "language_info": {
   "codemirror_mode": {
    "name": "ipython",
    "version": 3
   },
   "file_extension": ".py",
   "mimetype": "text/x-python",
   "name": "python",
   "nbconvert_exporter": "python",
   "pygments_lexer": "ipython3",
   "version": "3.9.7"
  }
 },
 "nbformat": 4,
 "nbformat_minor": 5
}
