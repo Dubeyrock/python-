{
 "cells": [
  {
   "cell_type": "code",
   "execution_count": 11,
   "id": "13886609",
   "metadata": {},
   "outputs": [
    {
     "name": "stdout",
     "output_type": "stream",
     "text": [
      "odd\n",
      "even\n",
      "odd\n",
      "odd\n",
      "even\n"
     ]
    }
   ],
   "source": [
    "a = [45,78, 43, 23,90]\n",
    "for i in a:\n",
    "    if i % 2 == 0:\n",
    "        print(\"even\")\n",
    "    else:\n",
    "        print(\"odd\")\n",
    "            "
   ]
  },
  {
   "cell_type": "code",
   "execution_count": 20,
   "id": "412920d1",
   "metadata": {},
   "outputs": [
    {
     "name": "stdout",
     "output_type": "stream",
     "text": [
      "even count--- 0\n",
      "even count--- 1\n",
      "even count--- 1\n",
      "even count--- 1\n",
      "even count--- 2\n",
      "odd count---> 1\n"
     ]
    }
   ],
   "source": [
    "a = [45,78,43,23,90]\n",
    "count_even = 0\n",
    "count_odd = 0\n",
    "for i in a:\n",
    "    if i % 2 == 0:\n",
    "        count_even = count_even+1\n",
    "    print(\"even count---\",count_even)\n",
    "    \n",
    "else:\n",
    "        count_odd = count_odd +1\n",
    "print(\"odd count--->\",count_odd)\n"
   ]
  },
  {
   "cell_type": "code",
   "execution_count": 21,
   "id": "4f3f86bf",
   "metadata": {},
   "outputs": [
    {
     "name": "stdout",
     "output_type": "stream",
     "text": [
      "26\n"
     ]
    }
   ],
   "source": [
    "x =[3,8,4,9,2]\n",
    "sum = 0\n",
    "for i in x:\n",
    "    sum = sum+i\n",
    "print(sum)"
   ]
  },
  {
   "cell_type": "code",
   "execution_count": 24,
   "id": "8c2776bf",
   "metadata": {},
   "outputs": [
    {
     "name": "stdout",
     "output_type": "stream",
     "text": [
      "1728\n"
     ]
    }
   ],
   "source": [
    "x =[3,8,4,9,2]\n",
    "sum = 1\n",
    "for i in x:\n",
    "    sum = sum*i\n",
    "print(sum)"
   ]
  },
  {
   "cell_type": "code",
   "execution_count": 45,
   "id": "8ebd3295",
   "metadata": {},
   "outputs": [
    {
     "ename": "SyntaxError",
     "evalue": "invalid syntax (Temp/ipykernel_12352/265815756.py, line 10)",
     "output_type": "error",
     "traceback": [
      "\u001b[1;36m  File \u001b[1;32m\"C:\\Users\\user\\AppData\\Local\\Temp/ipykernel_12352/265815756.py\"\u001b[1;36m, line \u001b[1;32m10\u001b[0m\n\u001b[1;33m    elif a[i]>sec_max and mx!= a[i]:\u001b[0m\n\u001b[1;37m    ^\u001b[0m\n\u001b[1;31mSyntaxError\u001b[0m\u001b[1;31m:\u001b[0m invalid syntax\n"
     ]
    }
   ],
   "source": [
    "a=[34,44,98,38,33,89,76,9,88]\n",
    "mx=max(a[0],a[1])\n",
    "n = len(a)\n",
    "sec_max =min(a[0],a[1]) \n",
    "for i in range(2,n):\n",
    "    if a[i]>mx:\n",
    "        sec_max = mx\n",
    "    mx = a[i]\n",
    "  #       print(mx)\n",
    "elif a[i]>sec_max and mx!= a[i]:\n",
    "        sec_max = a[i]      \n",
    "print(sec_max)"
   ]
  },
  {
   "cell_type": "code",
   "execution_count": 35,
   "id": "111115b0",
   "metadata": {},
   "outputs": [
    {
     "data": {
      "text/plain": [
       "9"
      ]
     },
     "execution_count": 35,
     "metadata": {},
     "output_type": "execute_result"
    }
   ],
   "source": [
    "a=[34,44,98,38,33,89,76,9,88]\n",
    "len(a)"
   ]
  },
  {
   "cell_type": "code",
   "execution_count": 44,
   "id": "97d172cc",
   "metadata": {},
   "outputs": [
    {
     "name": "stdout",
     "output_type": "stream",
     "text": [
      "2 2\n"
     ]
    }
   ],
   "source": [
    "a = 2\n",
    "b = 3\n",
    "c=a\n",
    "b=c\n",
    "a=b\n",
    "\n",
    "print(a,b)"
   ]
  },
  {
   "cell_type": "code",
   "execution_count": 46,
   "id": "82cbd893",
   "metadata": {},
   "outputs": [
    {
     "name": "stdout",
     "output_type": "stream",
     "text": [
      "9 9\n"
     ]
    }
   ],
   "source": [
    "a=7\n",
    "b=9\n",
    "c=b\n",
    "b=c\n",
    "a=b\n",
    "print(a,b)"
   ]
  },
  {
   "cell_type": "code",
   "execution_count": null,
   "id": "6ee4281c",
   "metadata": {},
   "outputs": [],
   "source": [
    "a=1\n",
    "b=2"
   ]
  },
  {
   "cell_type": "code",
   "execution_count": 47,
   "id": "f07a76f9",
   "metadata": {},
   "outputs": [],
   "source": [
    "x,y =45,89"
   ]
  },
  {
   "cell_type": "code",
   "execution_count": 48,
   "id": "5ca8c802",
   "metadata": {},
   "outputs": [
    {
     "data": {
      "text/plain": [
       "45"
      ]
     },
     "execution_count": 48,
     "metadata": {},
     "output_type": "execute_result"
    }
   ],
   "source": [
    "x"
   ]
  },
  {
   "cell_type": "code",
   "execution_count": 49,
   "id": "99a07856",
   "metadata": {},
   "outputs": [
    {
     "data": {
      "text/plain": [
       "89"
      ]
     },
     "execution_count": 49,
     "metadata": {},
     "output_type": "execute_result"
    }
   ],
   "source": [
    "y"
   ]
  },
  {
   "cell_type": "code",
   "execution_count": 50,
   "id": "086d2fb4",
   "metadata": {},
   "outputs": [
    {
     "data": {
      "text/plain": [
       "(89, 45)"
      ]
     },
     "execution_count": 50,
     "metadata": {},
     "output_type": "execute_result"
    }
   ],
   "source": [
    "a=45\n",
    "b=89\n",
    "a,b = b,a\n",
    "a,b"
   ]
  },
  {
   "cell_type": "code",
   "execution_count": 51,
   "id": "5b591b11",
   "metadata": {},
   "outputs": [
    {
     "name": "stdout",
     "output_type": "stream",
     "text": [
      "[4, 3, 2, 1]\n"
     ]
    }
   ],
   "source": [
    "x = [1,2,3,4]\n",
    "print(x[::-1])"
   ]
  },
  {
   "cell_type": "code",
   "execution_count": 52,
   "id": "3bc2cf14",
   "metadata": {},
   "outputs": [
    {
     "name": "stdout",
     "output_type": "stream",
     "text": [
      "positive number 34\n",
      "positive number 55\n",
      "positive number 67\n",
      "positive number 89\n"
     ]
    }
   ],
   "source": [
    "#0------>\n",
    "#<--------0\n",
    "\n",
    "x = [34,55,67,-66,89]\n",
    "for i in x:\n",
    "    if i > 0:\n",
    "        print(\"positive number\",i)\n",
    "        "
   ]
  },
  {
   "cell_type": "code",
   "execution_count": 54,
   "id": "99fc5d01",
   "metadata": {},
   "outputs": [
    {
     "name": "stdout",
     "output_type": "stream",
     "text": [
      "negative number 3\n",
      "negative number 69\n",
      "negative number 707\n",
      "negative number 77\n"
     ]
    }
   ],
   "source": [
    "x = [-33,3,-5,-88,69,707,-80,77,-33,-334]\n",
    "for i in x:\n",
    "    if i >0:\n",
    "        print(\"negative number\",i)"
   ]
  },
  {
   "cell_type": "code",
   "execution_count": 57,
   "id": "500aac05",
   "metadata": {},
   "outputs": [
    {
     "name": "stdout",
     "output_type": "stream",
     "text": [
      "positive number 34\n",
      "positive number 55\n",
      "positive number 67\n",
      "positive number -66\n",
      "positive number 89\n",
      "negative number 89\n"
     ]
    }
   ],
   "source": [
    "x = [34,55,67,-66,89]\n",
    "for i in x:\n",
    "     print(\"positive number\",i)\n",
    "else:\n",
    "        print(\"negative number\",i)\n",
    "        "
   ]
  },
  {
   "cell_type": "code",
   "execution_count": 60,
   "id": "1441ae47",
   "metadata": {},
   "outputs": [
    {
     "name": "stdout",
     "output_type": "stream",
     "text": [
      "positive number 3\n",
      "positive number 69\n",
      "positive number 707\n",
      "positive number 77\n",
      "negative number -334\n"
     ]
    }
   ],
   "source": [
    "x = [-33, 3,-5,-88,69,707,-80,77,-33,-334]\n",
    "for i in x:\n",
    "    if i >0:\n",
    "        print(\"positive number\",i)\n",
    "else:\n",
    "     print(\"negative number\", i)"
   ]
  },
  {
   "cell_type": "code",
   "execution_count": null,
   "id": "cf2fe8e4",
   "metadata": {},
   "outputs": [],
   "source": []
  }
 ],
 "metadata": {
  "kernelspec": {
   "display_name": "Python 3 (ipykernel)",
   "language": "python",
   "name": "python3"
  },
  "language_info": {
   "codemirror_mode": {
    "name": "ipython",
    "version": 3
   },
   "file_extension": ".py",
   "mimetype": "text/x-python",
   "name": "python",
   "nbconvert_exporter": "python",
   "pygments_lexer": "ipython3",
   "version": "3.9.7"
  }
 },
 "nbformat": 4,
 "nbformat_minor": 5
}
