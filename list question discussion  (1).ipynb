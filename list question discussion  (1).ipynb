{
 "cells": [
  {
   "cell_type": "code",
   "execution_count": 11,
   "id": "1e6c7af0",
   "metadata": {},
   "outputs": [
    {
     "name": "stdout",
     "output_type": "stream",
     "text": [
      "odd\n",
      "even\n",
      "odd\n",
      "odd\n",
      "even\n"
     ]
    }
   ],
   "source": [
    "a = [45,78, 43, 23,90]\n",
    "for i in a:\n",
    "    if i % 2 == 0:\n",
    "        print(\"even\")\n",
    "    else:\n",
    "        print(\"odd\")\n",
    "            "
   ]
  },
  {
   "cell_type": "code",
   "execution_count": 20,
   "id": "8b36be93",
   "metadata": {},
   "outputs": [
    {
     "name": "stdout",
     "output_type": "stream",
     "text": [
      "even count--- 0\n",
      "even count--- 1\n",
      "even count--- 1\n",
      "even count--- 1\n",
      "even count--- 2\n",
      "odd count---> 1\n"
     ]
    }
   ],
   "source": [
    "a = [45,78,43,23,90]\n",
    "count_even = 0\n",
    "count_odd = 0\n",
    "for i in a:\n",
    "    if i % 2 == 0:\n",
    "        count_even = count_even+1\n",
    "    print(\"even count---\",count_even)\n",
    "    \n",
    "else:\n",
    "        count_odd = count_odd +1\n",
    "print(\"odd count--->\",count_odd)\n"
   ]
  },
  {
   "cell_type": "code",
   "execution_count": 21,
   "id": "f7f5a4f6",
   "metadata": {},
   "outputs": [
    {
     "name": "stdout",
     "output_type": "stream",
     "text": [
      "26\n"
     ]
    }
   ],
   "source": [
    "x =[3,8,4,9,2]\n",
    "sum = 0\n",
    "for i in x:\n",
    "    sum = sum+i\n",
    "print(sum)"
   ]
  },
  {
   "cell_type": "code",
   "execution_count": 24,
   "id": "2c208ce1",
   "metadata": {},
   "outputs": [
    {
     "name": "stdout",
     "output_type": "stream",
     "text": [
      "1728\n"
     ]
    }
   ],
   "source": [
    "x =[3,8,4,9,2]\n",
    "sum = 1\n",
    "for i in x:\n",
    "    sum = sum*i\n",
    "print(sum)"
   ]
  },
  {
   "cell_type": "code",
   "execution_count": 63,
   "id": "b4b6d577",
   "metadata": {},
   "outputs": [
    {
     "name": "stdout",
     "output_type": "stream",
     "text": [
      "86\n"
     ]
    }
   ],
   "source": [
    "a=[98,10,6,34,3,10,86]\n",
    "\n",
    "mx = max(a[0],a[1])\n",
    "\n",
    "\n",
    "\n",
    "\n",
    "n = len(a)\n",
    "sec_max = min(a[0],a[1])\n",
    "for i in range(2,n):\n",
    "    if a[i]>mx:\n",
    "        sec_max = mx\n",
    "        mx = a[i]\n",
    "#         print(mx)\n",
    "        \n",
    "    elif a[i]>sec_max and mx!= a[i]:\n",
    "        sec_max = a[i]\n",
    "print(sec_max)"
   ]
  },
  {
   "cell_type": "code",
   "execution_count": 35,
   "id": "c25ad9b1",
   "metadata": {},
   "outputs": [
    {
     "data": {
      "text/plain": [
       "9"
      ]
     },
     "execution_count": 35,
     "metadata": {},
     "output_type": "execute_result"
    }
   ],
   "source": [
    "a=[34,44,98,38,33,89,76,9,88]\n",
    "len(a)"
   ]
  },
  {
   "cell_type": "code",
   "execution_count": 44,
   "id": "8cc97455",
   "metadata": {},
   "outputs": [
    {
     "name": "stdout",
     "output_type": "stream",
     "text": [
      "2 2\n"
     ]
    }
   ],
   "source": [
    "a = 2\n",
    "b = 3\n",
    "c=a\n",
    "b=c\n",
    "a=b\n",
    "\n",
    "print(a,b)"
   ]
  },
  {
   "cell_type": "code",
   "execution_count": 46,
   "id": "aa2bb1aa",
   "metadata": {},
   "outputs": [
    {
     "name": "stdout",
     "output_type": "stream",
     "text": [
      "9 9\n"
     ]
    }
   ],
   "source": [
    "a=7\n",
    "b=9\n",
    "c=b\n",
    "b=c\n",
    "a=b\n",
    "print(a,b)"
   ]
  },
  {
   "cell_type": "code",
   "execution_count": null,
   "id": "2a75d84d",
   "metadata": {},
   "outputs": [],
   "source": [
    "a=1\n",
    "b=2"
   ]
  },
  {
   "cell_type": "code",
   "execution_count": 47,
   "id": "254d04d5",
   "metadata": {},
   "outputs": [],
   "source": [
    "x,y =45,89"
   ]
  },
  {
   "cell_type": "code",
   "execution_count": 48,
   "id": "9df8edf0",
   "metadata": {},
   "outputs": [
    {
     "data": {
      "text/plain": [
       "45"
      ]
     },
     "execution_count": 48,
     "metadata": {},
     "output_type": "execute_result"
    }
   ],
   "source": [
    "x"
   ]
  },
  {
   "cell_type": "code",
   "execution_count": 49,
   "id": "5485caa2",
   "metadata": {},
   "outputs": [
    {
     "data": {
      "text/plain": [
       "89"
      ]
     },
     "execution_count": 49,
     "metadata": {},
     "output_type": "execute_result"
    }
   ],
   "source": [
    "y"
   ]
  },
  {
   "cell_type": "code",
   "execution_count": 50,
   "id": "6040462e",
   "metadata": {},
   "outputs": [
    {
     "data": {
      "text/plain": [
       "(89, 45)"
      ]
     },
     "execution_count": 50,
     "metadata": {},
     "output_type": "execute_result"
    }
   ],
   "source": [
    "a=45\n",
    "b=89\n",
    "a,b = b,a\n",
    "a,b"
   ]
  },
  {
   "cell_type": "code",
   "execution_count": 51,
   "id": "bafe5563",
   "metadata": {},
   "outputs": [
    {
     "name": "stdout",
     "output_type": "stream",
     "text": [
      "[4, 3, 2, 1]\n"
     ]
    }
   ],
   "source": [
    "x = [1,2,3,4]\n",
    "print(x[::-1])"
   ]
  },
  {
   "cell_type": "code",
   "execution_count": 52,
   "id": "fc247a54",
   "metadata": {},
   "outputs": [
    {
     "name": "stdout",
     "output_type": "stream",
     "text": [
      "positive number 34\n",
      "positive number 55\n",
      "positive number 67\n",
      "positive number 89\n"
     ]
    }
   ],
   "source": [
    "#0------>\n",
    "#<--------0\n",
    "\n",
    "x = [34,55,67,-66,89]\n",
    "for i in x:\n",
    "    if i > 0:\n",
    "        print(\"positive number\",i)\n",
    "        "
   ]
  },
  {
   "cell_type": "code",
   "execution_count": 54,
   "id": "7d862ea9",
   "metadata": {},
   "outputs": [
    {
     "name": "stdout",
     "output_type": "stream",
     "text": [
      "negative number 3\n",
      "negative number 69\n",
      "negative number 707\n",
      "negative number 77\n"
     ]
    }
   ],
   "source": [
    "x = [-33,3,-5,-88,69,707,-80,77,-33,-334]\n",
    "for i in x:\n",
    "    if i >0:\n",
    "        print(\"negative number\",i)"
   ]
  },
  {
   "cell_type": "code",
   "execution_count": 57,
   "id": "bfc763e4",
   "metadata": {},
   "outputs": [
    {
     "name": "stdout",
     "output_type": "stream",
     "text": [
      "positive number 34\n",
      "positive number 55\n",
      "positive number 67\n",
      "positive number -66\n",
      "positive number 89\n",
      "negative number 89\n"
     ]
    }
   ],
   "source": [
    "x = [34,55,67,-66,89]\n",
    "for i in x:\n",
    "     print(\"positive number\",i)\n",
    "else:\n",
    "        print(\"negative number\",i)\n",
    "        "
   ]
  },
  {
   "cell_type": "code",
   "execution_count": 60,
   "id": "a8c32e8a",
   "metadata": {},
   "outputs": [
    {
     "name": "stdout",
     "output_type": "stream",
     "text": [
      "positive number 3\n",
      "positive number 69\n",
      "positive number 707\n",
      "positive number 77\n",
      "negative number -334\n"
     ]
    }
   ],
   "source": [
    "x = [-33, 3,-5,-88,69,707,-80,77,-33,-334]\n",
    "for i in x:\n",
    "    if i >0:\n",
    "        print(\"positive number\",i)\n",
    "else:\n",
    "     print(\"negative number\", i)"
   ]
  },
  {
   "cell_type": "code",
   "execution_count": null,
   "id": "57d1d20a",
   "metadata": {},
   "outputs": [],
   "source": []
  }
 ],
 "metadata": {
  "kernelspec": {
   "display_name": "Python 3 (ipykernel)",
   "language": "python",
   "name": "python3"
  },
  "language_info": {
   "codemirror_mode": {
    "name": "ipython",
    "version": 3
   },
   "file_extension": ".py",
   "mimetype": "text/x-python",
   "name": "python",
   "nbconvert_exporter": "python",
   "pygments_lexer": "ipython3",
   "version": "3.9.7"
  }
 },
 "nbformat": 4,
 "nbformat_minor": 5
}
