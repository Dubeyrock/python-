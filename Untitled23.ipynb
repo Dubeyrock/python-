{
 "cells": [
  {
   "cell_type": "code",
   "execution_count": 13,
   "id": "60f85b0a",
   "metadata": {},
   "outputs": [
    {
     "name": "stdout",
     "output_type": "stream",
     "text": [
      "enter something  hello python \n",
      "  hello python \n"
     ]
    }
   ],
   "source": [
    "x = input('enter something')\n",
    "print(x)"
   ]
  },
  {
   "cell_type": "code",
   "execution_count": 5,
   "id": "f2e7e359",
   "metadata": {},
   "outputs": [
    {
     "name": "stdout",
     "output_type": "stream",
     "text": [
      "27\n"
     ]
    }
   ],
   "source": [
    "#concatenation \n",
    "\n",
    "a = '2'\n",
    "b = '7'\n",
    "c = a+b \n",
    "print(c)"
   ]
  },
  {
   "cell_type": "code",
   "execution_count": 6,
   "id": "f51ca921",
   "metadata": {},
   "outputs": [
    {
     "name": "stdout",
     "output_type": "stream",
     "text": [
      "Enter the first number67\n",
      "Enter   the  second number90\n",
      "157\n"
     ]
    }
   ],
   "source": [
    "# wap to add numbers with the help of user inputs\n",
    "\n",
    "a = int(input(\"Enter the first number\"))\n",
    "b = int(input(\"Enter   the  second number\"))\n",
    "c = a+b\n",
    "print(c)"
   ]
  },
  {
   "cell_type": "code",
   "execution_count": 7,
   "id": "0704ba6a",
   "metadata": {},
   "outputs": [
    {
     "name": "stdout",
     "output_type": "stream",
     "text": [
      "Enter the first number4959595\n",
      "Enter the second number949494944\n",
      "4709110376787680\n"
     ]
    }
   ],
   "source": [
    "# wap to multiply with the help of user inputs\n",
    "a = int(input(\"Enter the first number\"))\n",
    "b = int(input(\"Enter the second number\"))\n",
    "u = a*b\n",
    "print(u)"
   ]
  },
  {
   "cell_type": "code",
   "execution_count": 5,
   "id": "a5d18e92",
   "metadata": {},
   "outputs": [
    {
     "name": "stdout",
     "output_type": "stream",
     "text": [
      "child\n"
     ]
    }
   ],
   "source": [
    "#condition------>\n",
    "#syntax---->\n",
    "#if condition:\n",
    "age = 7\n",
    "if age>18:\n",
    "    print(\"Adult\")\n",
    "else:\n",
    "    print(\"child\")"
   ]
  },
  {
   "cell_type": "code",
   "execution_count": 8,
   "id": "f2145685",
   "metadata": {},
   "outputs": [
    {
     "name": "stdout",
     "output_type": "stream",
     "text": [
      "old person\n"
     ]
    }
   ],
   "source": [
    "age = 89\n",
    "if age<18:\n",
    "    print(\"children\")\n",
    "else:\n",
    "    print(\"old person\")"
   ]
  },
  {
   "cell_type": "code",
   "execution_count": 12,
   "id": "4a0a128e",
   "metadata": {},
   "outputs": [
    {
     "name": "stdout",
     "output_type": "stream",
     "text": [
      "child\n"
     ]
    }
   ],
   "source": [
    "age = 18\n",
    "if age>18:\n",
    "    print(\"teeneger\")\n",
    "elif age==18:\n",
    "        print(\"child\")\n",
    "else:\n",
    "     print(\"old person\")   "
   ]
  },
  {
   "cell_type": "code",
   "execution_count": 20,
   "id": "dbefcab8",
   "metadata": {},
   "outputs": [
    {
     "name": "stdout",
     "output_type": "stream",
     "text": [
      "Enter your salary 3000000\n",
      "enter your service3\n",
      "NO bonus\n"
     ]
    }
   ],
   "source": [
    "# A company decided to gives bonus\n",
    "# of 5% to employee if his / her year of service is more than 5 year\n",
    "# ask user for their salary and year of service and print \n",
    "#the net bonus amount\n",
    "# # SDE-1 software developer\n",
    "\n",
    "salary = int(input(\"Enter your salary \"))\n",
    "year_of_service = int(input(\"enter your service\"))\n",
    "    \n",
    "if year_of_service>5:\n",
    "    bonus = (salary*5)/100\n",
    "    print(\"Bonus\",bonus)\n",
    "else:\n",
    "    print('NO bonus')\n"
   ]
  },
  {
   "cell_type": "code",
   "execution_count": 21,
   "id": "95097040",
   "metadata": {},
   "outputs": [
    {
     "name": "stdout",
     "output_type": "stream",
     "text": [
      "Enter your salary 2000000\n",
      "enter your service5\n",
      "No bonus\n"
     ]
    }
   ],
   "source": [
    "#SDE-2 Software developer \n",
    "salary = int(input(\"Enter your salary \"))\n",
    "year_of_service = int(input(\"enter your service\"))\n",
    "\n",
    "if year_of_service>5:\n",
    "    bonus = (salary*5)/100\n",
    "    print(\"Bonus\",bonus)\n",
    "else:\n",
    "    print('No bonus')"
   ]
  },
  {
   "cell_type": "code",
   "execution_count": 22,
   "id": "c8a55bbf",
   "metadata": {},
   "outputs": [
    {
     "name": "stdout",
     "output_type": "stream",
     "text": [
      "Enter your salary 89000\n",
      "enter your service6\n",
      "Bonus 4450.0\n"
     ]
    }
   ],
   "source": [
    "#SDE-3 Software developer \n",
    "salary = int(input(\"Enter your salary \"))\n",
    "year_of_service = int(input(\"enter your service\"))\n",
    "\n",
    "if year_of_service>5:\n",
    "    bonus = (salary*5)/100\n",
    "    print(\"Bonus\",bonus)\n",
    "else:\n",
    "    print('No bonus')"
   ]
  },
  {
   "cell_type": "code",
   "execution_count": 23,
   "id": "14c52b55",
   "metadata": {},
   "outputs": [
    {
     "name": "stdout",
     "output_type": "stream",
     "text": [
      "Enter your salary 670000\n",
      "enter your service8\n",
      "Bonus 40200.0\n"
     ]
    }
   ],
   "source": [
    "#Web devloper \n",
    "salary = int(input(\"Enter your salary \"))\n",
    "year_of_service = int(input(\"enter your service\"))\n",
    "\n",
    "if year_of_service>6:\n",
    "    bonus = (salary*6)/100\n",
    "    print(\"Bonus\",bonus)\n",
    "else:\n",
    "    print('No bonus')"
   ]
  },
  {
   "cell_type": "code",
   "execution_count": 24,
   "id": "6b926fb4",
   "metadata": {},
   "outputs": [
    {
     "name": "stdout",
     "output_type": "stream",
     "text": [
      "Enter your salary 5000000\n",
      "enter your service10\n",
      "Bonus 400000.0\n"
     ]
    }
   ],
   "source": [
    "#chartered accountent in amazon \n",
    "salary = int(input(\"Enter your salary \"))\n",
    "year_of_service = int(input(\"enter your service\"))\n",
    "\n",
    "if year_of_service>8:\n",
    "    bonus = (salary*8)/100\n",
    "    print(\"Bonus\",bonus)\n",
    "else:\n",
    "    print('No bonus')\n"
   ]
  }
 ],
 "metadata": {
  "kernelspec": {
   "display_name": "Python 3 (ipykernel)",
   "language": "python",
   "name": "python3"
  },
  "language_info": {
   "codemirror_mode": {
    "name": "ipython",
    "version": 3
   },
   "file_extension": ".py",
   "mimetype": "text/x-python",
   "name": "python",
   "nbconvert_exporter": "python",
   "pygments_lexer": "ipython3",
   "version": "3.9.7"
  }
 },
 "nbformat": 4,
 "nbformat_minor": 5
}
