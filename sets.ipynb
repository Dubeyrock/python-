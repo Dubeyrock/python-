{
 "cells": [
  {
   "cell_type": "code",
   "execution_count": null,
   "id": "3dcba9d8",
   "metadata": {},
   "outputs": [],
   "source": [
    "# wap to  create a empty dict\n",
    "#wap to create a single element dict.\n",
    "\n"
   ]
  },
  {
   "cell_type": "code",
   "execution_count": 2,
   "id": "ec7a17fb",
   "metadata": {},
   "outputs": [],
   "source": [
    "# wap to  create a empty dict\n",
    "empDict = {}"
   ]
  },
  {
   "cell_type": "code",
   "execution_count": 3,
   "id": "b320cc10",
   "metadata": {},
   "outputs": [
    {
     "name": "stdout",
     "output_type": "stream",
     "text": [
      "{}\n"
     ]
    }
   ],
   "source": [
    "print(empDict)"
   ]
  },
  {
   "cell_type": "code",
   "execution_count": 4,
   "id": "52296ccd",
   "metadata": {},
   "outputs": [],
   "source": [
    "#wap to create a single element dict.\n",
    "z = {\n",
    "    'hobby':'music',\n",
    "}"
   ]
  },
  {
   "cell_type": "code",
   "execution_count": 5,
   "id": "0ba6eba5",
   "metadata": {},
   "outputs": [
    {
     "data": {
      "text/plain": [
       "dict"
      ]
     },
     "execution_count": 5,
     "metadata": {},
     "output_type": "execute_result"
    }
   ],
   "source": [
    "type(z)"
   ]
  },
  {
   "cell_type": "markdown",
   "id": "bbf1b0ba",
   "metadata": {},
   "source": [
    "# SET"
   ]
  },
  {
   "cell_type": "code",
   "execution_count": 6,
   "id": "2a4c3560",
   "metadata": {},
   "outputs": [],
   "source": [
    "# create the set \n",
    "x = {1,4,5,6,8,0,9,49}"
   ]
  },
  {
   "cell_type": "code",
   "execution_count": 7,
   "id": "0af38cf8",
   "metadata": {},
   "outputs": [
    {
     "data": {
      "text/plain": [
       "{0, 1, 4, 5, 6, 8, 9, 49}"
      ]
     },
     "execution_count": 7,
     "metadata": {},
     "output_type": "execute_result"
    }
   ],
   "source": [
    "x"
   ]
  },
  {
   "cell_type": "code",
   "execution_count": 8,
   "id": "b2c7dede",
   "metadata": {},
   "outputs": [
    {
     "data": {
      "text/plain": [
       "set"
      ]
     },
     "execution_count": 8,
     "metadata": {},
     "output_type": "execute_result"
    }
   ],
   "source": [
    "type(x)"
   ]
  },
  {
   "cell_type": "code",
   "execution_count": 9,
   "id": "536305ba",
   "metadata": {},
   "outputs": [],
   "source": [
    "x ={\n",
    "    \n",
    "}"
   ]
  },
  {
   "cell_type": "code",
   "execution_count": 10,
   "id": "76347f83",
   "metadata": {},
   "outputs": [
    {
     "data": {
      "text/plain": [
       "dict"
      ]
     },
     "execution_count": 10,
     "metadata": {},
     "output_type": "execute_result"
    }
   ],
   "source": [
    "type(x)"
   ]
  },
  {
   "cell_type": "code",
   "execution_count": 11,
   "id": "9068734c",
   "metadata": {},
   "outputs": [],
   "source": [
    "s ={\"123\", \"hello python\",\"string\"}"
   ]
  },
  {
   "cell_type": "code",
   "execution_count": 12,
   "id": "9f51e6d0",
   "metadata": {},
   "outputs": [
    {
     "data": {
      "text/plain": [
       "{'123', 'hello python', 'string'}"
      ]
     },
     "execution_count": 12,
     "metadata": {},
     "output_type": "execute_result"
    }
   ],
   "source": [
    "s"
   ]
  },
  {
   "cell_type": "code",
   "execution_count": 13,
   "id": "a0ee6b74",
   "metadata": {},
   "outputs": [],
   "source": [
    "x = {\"2,4,6,3,2\", \"hello python\", 44,39,93,90.2,33.9,True}"
   ]
  },
  {
   "cell_type": "code",
   "execution_count": 14,
   "id": "2f908cdd",
   "metadata": {},
   "outputs": [
    {
     "data": {
      "text/plain": [
       "{'2,4,6,3,2', 33.9, 39, 44, 90.2, 93, True, 'hello python'}"
      ]
     },
     "execution_count": 14,
     "metadata": {},
     "output_type": "execute_result"
    }
   ],
   "source": [
    "x"
   ]
  },
  {
   "cell_type": "code",
   "execution_count": 15,
   "id": "d1bb3d64",
   "metadata": {},
   "outputs": [],
   "source": [
    "# unordered , unindexed, slicing not possible , immutable , duplicay is not allowed\n",
    "\n",
    "x = { 34,66,44,66,33,-2,30,-30,33,\"true\"}"
   ]
  },
  {
   "cell_type": "code",
   "execution_count": 16,
   "id": "b213af0f",
   "metadata": {},
   "outputs": [
    {
     "data": {
      "text/plain": [
       "{-2, -30, 30, 33, 34, 44, 66, 'true'}"
      ]
     },
     "execution_count": 16,
     "metadata": {},
     "output_type": "execute_result"
    }
   ],
   "source": [
    "x"
   ]
  },
  {
   "cell_type": "code",
   "execution_count": 18,
   "id": "2302575e",
   "metadata": {},
   "outputs": [
    {
     "data": {
      "text/plain": [
       "{33, 44, 90}"
      ]
     },
     "execution_count": 18,
     "metadata": {},
     "output_type": "execute_result"
    }
   ],
   "source": [
    "i = {33,44,90,33, 90,44}\n",
    "i"
   ]
  },
  {
   "cell_type": "code",
   "execution_count": 3,
   "id": "b4331efa",
   "metadata": {},
   "outputs": [],
   "source": [
    " x =(3,5,6,6,4,5,7,43,33,32,66)"
   ]
  },
  {
   "cell_type": "code",
   "execution_count": 4,
   "id": "d598c85b",
   "metadata": {},
   "outputs": [
    {
     "data": {
      "text/plain": [
       "(3, 5, 6, 6, 4, 5, 7, 43, 33, 32, 66)"
      ]
     },
     "execution_count": 4,
     "metadata": {},
     "output_type": "execute_result"
    }
   ],
   "source": [
    "x"
   ]
  },
  {
   "cell_type": "code",
   "execution_count": 6,
   "id": "1513a5cb",
   "metadata": {},
   "outputs": [],
   "source": [
    "x = {3,5,6,6,4,(5.9,7.7,43),'hello','world'}"
   ]
  },
  {
   "cell_type": "code",
   "execution_count": 7,
   "id": "ea3b14da",
   "metadata": {},
   "outputs": [
    {
     "data": {
      "text/plain": [
       "{(5.9, 7.7, 43), 3, 4, 5, 6, 'hello', 'world'}"
      ]
     },
     "execution_count": 7,
     "metadata": {},
     "output_type": "execute_result"
    }
   ],
   "source": [
    "x"
   ]
  },
  {
   "cell_type": "code",
   "execution_count": null,
   "id": "601f4dcb",
   "metadata": {},
   "outputs": [],
   "source": []
  }
 ],
 "metadata": {
  "kernelspec": {
   "display_name": "Python 3 (ipykernel)",
   "language": "python",
   "name": "python3"
  },
  "language_info": {
   "codemirror_mode": {
    "name": "ipython",
    "version": 3
   },
   "file_extension": ".py",
   "mimetype": "text/x-python",
   "name": "python",
   "nbconvert_exporter": "python",
   "pygments_lexer": "ipython3",
   "version": "3.9.7"
  }
 },
 "nbformat": 4,
 "nbformat_minor": 5
}
