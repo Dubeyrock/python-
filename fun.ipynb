{
 "cells": [
  {
   "cell_type": "code",
   "execution_count": 1,
   "id": "ac101b2d",
   "metadata": {},
   "outputs": [],
   "source": [
    "#syntax\n",
    "# define the fun_name:\n",
    "# print the msg"
   ]
  },
  {
   "cell_type": "code",
   "execution_count": 1,
   "id": "bced1223",
   "metadata": {},
   "outputs": [
    {
     "name": "stdout",
     "output_type": "stream",
     "text": [
      "hello shivam\n"
     ]
    }
   ],
   "source": [
    "def shivam():\n",
    "    print(\"hello shivam\")\n",
    "    \n",
    "# call the funtion \n",
    "shivam()"
   ]
  },
  {
   "cell_type": "code",
   "execution_count": 3,
   "id": "1026d0bd",
   "metadata": {},
   "outputs": [
    {
     "name": "stdout",
     "output_type": "stream",
     "text": [
      "Good-Morning!!\n"
     ]
    }
   ],
   "source": [
    "# wap using function which can give u a message good morning!!\n",
    "\n",
    "def goodmorning():\n",
    "    print(\"Good-Morning!!\")\n",
    "#call the function\n",
    "goodmorning()"
   ]
  },
  {
   "cell_type": "code",
   "execution_count": 4,
   "id": "ef1668e1",
   "metadata": {},
   "outputs": [
    {
     "name": "stdout",
     "output_type": "stream",
     "text": [
      "100\n"
     ]
    }
   ],
   "source": [
    "# wap to add number using function \n",
    "def num():\n",
    "    print(90+10)\n",
    "num()"
   ]
  },
  {
   "cell_type": "code",
   "execution_count": 5,
   "id": "9482356c",
   "metadata": {},
   "outputs": [
    {
     "name": "stdout",
     "output_type": "stream",
     "text": [
      "102\n"
     ]
    }
   ],
   "source": [
    "def add():\n",
    "    a =90\n",
    "    b= 12\n",
    "    c = a+b\n",
    "    print(c)\n",
    "add()   \n",
    "    "
   ]
  },
  {
   "cell_type": "code",
   "execution_count": 6,
   "id": "d055b019",
   "metadata": {},
   "outputs": [
    {
     "name": "stdout",
     "output_type": "stream",
     "text": [
      "131\n"
     ]
    }
   ],
   "source": [
    "# no return with arg\n",
    "def add(k,u):\n",
    "    z = k+u\n",
    "    print(z)\n",
    "    \n",
    "add(39,92)"
   ]
  },
  {
   "cell_type": "code",
   "execution_count": 8,
   "id": "d16953f4",
   "metadata": {},
   "outputs": [
    {
     "data": {
      "text/plain": [
       "2566245"
      ]
     },
     "execution_count": 8,
     "metadata": {},
     "output_type": "execute_result"
    }
   ],
   "source": [
    "# with return with arg\n",
    "def mul(x,y):\n",
    "    z = x*y\n",
    "    return z\n",
    "mul(453,5665)"
   ]
  },
  {
   "cell_type": "code",
   "execution_count": 3,
   "id": "4a6c0c94",
   "metadata": {},
   "outputs": [
    {
     "name": "stdout",
     "output_type": "stream",
     "text": [
      "hello good-morning!!\n"
     ]
    }
   ],
   "source": [
    "# wap using function which can give you a msg goodmorning!!!\n",
    "def goodMorning():\n",
    "    print(\"hello good-morning!!\")\n",
    "goodMorning()    "
   ]
  },
  {
   "cell_type": "code",
   "execution_count": 5,
   "id": "3c204df5",
   "metadata": {},
   "outputs": [
    {
     "name": "stdout",
     "output_type": "stream",
     "text": [
      "43\n"
     ]
    }
   ],
   "source": [
    "# wap to add two number using function .\n",
    "def add ():\n",
    "    a = 22\n",
    "    b = 21\n",
    "    c = a+b\n",
    "    print(c)    \n",
    "    \n",
    "add()   "
   ]
  },
  {
   "cell_type": "code",
   "execution_count": 6,
   "id": "12b4a87c",
   "metadata": {},
   "outputs": [
    {
     "name": "stdout",
     "output_type": "stream",
     "text": [
      "9496\n"
     ]
    }
   ],
   "source": [
    "def subtract ():\n",
    "    a = 10229\n",
    "    b = 733\n",
    "    c = a-b\n",
    "    print(c)\n",
    "    \n",
    "subtract ()  "
   ]
  },
  {
   "cell_type": "code",
   "execution_count": 7,
   "id": "94f22be6",
   "metadata": {},
   "outputs": [
    {
     "name": "stdout",
     "output_type": "stream",
     "text": [
      "3785228538\n"
     ]
    }
   ],
   "source": [
    "def mul ():\n",
    "    a = 292929\n",
    "    b = 12922\n",
    "    c = a*b\n",
    "    print(c)\n",
    "    \n",
    "mul()   "
   ]
  },
  {
   "cell_type": "code",
   "execution_count": 8,
   "id": "1e722959",
   "metadata": {},
   "outputs": [
    {
     "name": "stdout",
     "output_type": "stream",
     "text": [
      "10.046039603960397\n"
     ]
    }
   ],
   "source": [
    "def modulo ():\n",
    "    a = 20293\n",
    "    b = 2020\n",
    "    c = a/b\n",
    "    print(c)\n",
    "    \n",
    "modulo()    "
   ]
  },
  {
   "cell_type": "code",
   "execution_count": null,
   "id": "a6c21a34",
   "metadata": {},
   "outputs": [],
   "source": [
    "  types of user defined function \n",
    "    #1 no return no argument \n",
    "    # no return with argument\n",
    "    # with return with argument\n",
    "    #with return no argument "
   ]
  },
  {
   "cell_type": "code",
   "execution_count": 9,
   "id": "fdc990e5",
   "metadata": {},
   "outputs": [
    {
     "name": "stdout",
     "output_type": "stream",
     "text": [
      "597797916\n"
     ]
    }
   ],
   "source": [
    " # no return no argument \n",
    "\n",
    "def add ():\n",
    "    a = 383893822\n",
    "    b = 213904094\n",
    "    c = a+b\n",
    "    print(c)    \n",
    "    \n",
    "add()   "
   ]
  },
  {
   "cell_type": "code",
   "execution_count": 31,
   "id": "f191b759",
   "metadata": {},
   "outputs": [
    {
     "name": "stdout",
     "output_type": "stream",
     "text": [
      "476\n"
     ]
    }
   ],
   "source": [
    "# no return with argument \n",
    "\n",
    "def mul(z,i):\n",
    "    k = z*i\n",
    "    print(k)\n",
    "    \n",
    "mul (17,28)    \n",
    "\n"
   ]
  },
  {
   "cell_type": "code",
   "execution_count": 34,
   "id": "12c4f134",
   "metadata": {},
   "outputs": [
    {
     "name": "stdout",
     "output_type": "stream",
     "text": [
      "3960\n"
     ]
    }
   ],
   "source": [
    "# with return with argument\n",
    "\n",
    "def mul(p,y):\n",
    "    u = p*y \n",
    "    print(u)\n",
    "    \n",
    "mul(44,90)    "
   ]
  },
  {
   "cell_type": "code",
   "execution_count": null,
   "id": "6a8b510a",
   "metadata": {},
   "outputs": [],
   "source": [
    "# print & return \n",
    "\n",
    "#print()-------->\n",
    "#return the data---->\n"
   ]
  },
  {
   "cell_type": "code",
   "execution_count": 35,
   "id": "8adf6d10",
   "metadata": {},
   "outputs": [
    {
     "name": "stdout",
     "output_type": "stream",
     "text": [
      "dekelieeepeo\n"
     ]
    }
   ],
   "source": [
    "print('dekelieeepeo')"
   ]
  },
  {
   "cell_type": "code",
   "execution_count": 38,
   "id": "052ef03a",
   "metadata": {},
   "outputs": [
    {
     "data": {
      "text/plain": [
       "224"
      ]
     },
     "execution_count": 38,
     "metadata": {},
     "output_type": "execute_result"
    }
   ],
   "source": [
    "# with return no argument \n",
    "\n",
    "#add two numbers\n",
    "\n",
    "def fun ():\n",
    "    a = 22\n",
    "    b = 202\n",
    " #   c = a+b\n",
    "    return a+b\n",
    "fun()\n",
    "\n",
    "# return a+b\n"
   ]
  },
  {
   "cell_type": "code",
   "execution_count": null,
   "id": "f70753fd",
   "metadata": {},
   "outputs": [],
   "source": [
    "# write a function to check a string is plaindrome or not ?\n",
    "\n"
   ]
  }
 ],
 "metadata": {
  "kernelspec": {
   "display_name": "Python 3 (ipykernel)",
   "language": "python",
   "name": "python3"
  },
  "language_info": {
   "codemirror_mode": {
    "name": "ipython",
    "version": 3
   },
   "file_extension": ".py",
   "mimetype": "text/x-python",
   "name": "python",
   "nbconvert_exporter": "python",
   "pygments_lexer": "ipython3",
   "version": "3.9.7"
  }
 },
 "nbformat": 4,
 "nbformat_minor": 5
}
