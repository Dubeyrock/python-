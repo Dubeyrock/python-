{
 "cells": [
  {
   "cell_type": "code",
   "execution_count": 3,
   "id": "6c2ea5fb",
   "metadata": {},
   "outputs": [
    {
     "name": "stdout",
     "output_type": "stream",
     "text": [
      "{}\n"
     ]
    }
   ],
   "source": [
    "# wap to create a emp dict\n",
    "# wap to create a single element dict.\n",
    "\n",
    "empDict = {}\n",
    "print(empDict)"
   ]
  },
  {
   "cell_type": "code",
   "execution_count": 4,
   "id": "67da304e",
   "metadata": {},
   "outputs": [],
   "source": [
    "z = {\n",
    "    'hobby':'cricket',\n",
    "}"
   ]
  },
  {
   "cell_type": "code",
   "execution_count": 5,
   "id": "6685bcdb",
   "metadata": {},
   "outputs": [
    {
     "data": {
      "text/plain": [
       "dict"
      ]
     },
     "execution_count": 5,
     "metadata": {},
     "output_type": "execute_result"
    }
   ],
   "source": [
    "type(z)"
   ]
  },
  {
   "cell_type": "markdown",
   "id": "bf2a1983",
   "metadata": {},
   "source": [
    "# set"
   ]
  },
  {
   "cell_type": "code",
   "execution_count": 6,
   "id": "e22e08c4",
   "metadata": {},
   "outputs": [],
   "source": [
    "# create a set \n",
    "x = {1,2,3,4}"
   ]
  },
  {
   "cell_type": "code",
   "execution_count": 7,
   "id": "e1373aee",
   "metadata": {},
   "outputs": [
    {
     "data": {
      "text/plain": [
       "{1, 2, 3, 4}"
      ]
     },
     "execution_count": 7,
     "metadata": {},
     "output_type": "execute_result"
    }
   ],
   "source": [
    "x"
   ]
  },
  {
   "cell_type": "code",
   "execution_count": 8,
   "id": "dafe330c",
   "metadata": {},
   "outputs": [
    {
     "data": {
      "text/plain": [
       "set"
      ]
     },
     "execution_count": 8,
     "metadata": {},
     "output_type": "execute_result"
    }
   ],
   "source": [
    "type(x)"
   ]
  },
  {
   "cell_type": "code",
   "execution_count": 9,
   "id": "b119d552",
   "metadata": {},
   "outputs": [],
   "source": [
    "s = {\"12344556\",\"hello\",\"python\"}"
   ]
  },
  {
   "cell_type": "code",
   "execution_count": 10,
   "id": "7e2f9221",
   "metadata": {},
   "outputs": [
    {
     "data": {
      "text/plain": [
       "{'12344556', 'hello', 'python'}"
      ]
     },
     "execution_count": 10,
     "metadata": {},
     "output_type": "execute_result"
    }
   ],
   "source": [
    "s"
   ]
  },
  {
   "cell_type": "code",
   "execution_count": 11,
   "id": "d5e759a0",
   "metadata": {},
   "outputs": [
    {
     "data": {
      "text/plain": [
       "set"
      ]
     },
     "execution_count": 11,
     "metadata": {},
     "output_type": "execute_result"
    }
   ],
   "source": [
    "type(s)"
   ]
  },
  {
   "cell_type": "code",
   "execution_count": 12,
   "id": "0666e41f",
   "metadata": {},
   "outputs": [],
   "source": [
    "x = {\"12333\",\"hello\", \"python\", 4848,45.9,True }"
   ]
  },
  {
   "cell_type": "code",
   "execution_count": 13,
   "id": "f08984a1",
   "metadata": {},
   "outputs": [
    {
     "data": {
      "text/plain": [
       "{'12333', 45.9, 4848, True, 'hello', 'python'}"
      ]
     },
     "execution_count": 13,
     "metadata": {},
     "output_type": "execute_result"
    }
   ],
   "source": [
    "x"
   ]
  },
  {
   "cell_type": "code",
   "execution_count": 14,
   "id": "ccf9fe4e",
   "metadata": {},
   "outputs": [
    {
     "data": {
      "text/plain": [
       "set"
      ]
     },
     "execution_count": 14,
     "metadata": {},
     "output_type": "execute_result"
    }
   ],
   "source": [
    "type(x)"
   ]
  },
  {
   "cell_type": "code",
   "execution_count": 15,
   "id": "2b2af6b0",
   "metadata": {},
   "outputs": [],
   "source": [
    "# unordered, unindexed, slicing, not impossible, immutable, duplicay is not allowed..\n",
    "\n",
    "x = {34,4,44,54,3,-1,\"true\",True,89}"
   ]
  },
  {
   "cell_type": "code",
   "execution_count": 16,
   "id": "2077906b",
   "metadata": {},
   "outputs": [
    {
     "data": {
      "text/plain": [
       "{-1, 3, 34, 4, 44, 54, 89, True, 'true'}"
      ]
     },
     "execution_count": 16,
     "metadata": {},
     "output_type": "execute_result"
    }
   ],
   "source": [
    "x"
   ]
  },
  {
   "cell_type": "code",
   "execution_count": 18,
   "id": "a2d073f6",
   "metadata": {},
   "outputs": [
    {
     "data": {
      "text/plain": [
       "{34, 56, 77, 556}"
      ]
     },
     "execution_count": 18,
     "metadata": {},
     "output_type": "execute_result"
    }
   ],
   "source": [
    "x = {34,556,77,56}\n",
    "x"
   ]
  },
  {
   "cell_type": "code",
   "execution_count": 19,
   "id": "61c0bda8",
   "metadata": {},
   "outputs": [
    {
     "data": {
      "text/plain": [
       "{34, 56}"
      ]
     },
     "execution_count": 19,
     "metadata": {},
     "output_type": "execute_result"
    }
   ],
   "source": [
    "x = { 34,34,34,34,34,34,56}\n",
    "x"
   ]
  },
  {
   "cell_type": "code",
   "execution_count": 20,
   "id": "7413c1a8",
   "metadata": {},
   "outputs": [
    {
     "data": {
      "text/plain": [
       "{1}"
      ]
     },
     "execution_count": 20,
     "metadata": {},
     "output_type": "execute_result"
    }
   ],
   "source": [
    "# wap to create a empty set & single element set.\n",
    "#add\n",
    "#copy\n",
    "#remove\n",
    "# pop\n",
    "a = {1}\n",
    "a"
   ]
  },
  {
   "cell_type": "code",
   "execution_count": 23,
   "id": "3fdb2c26",
   "metadata": {},
   "outputs": [
    {
     "data": {
      "text/plain": [
       "{''}"
      ]
     },
     "execution_count": 23,
     "metadata": {},
     "output_type": "execute_result"
    }
   ],
   "source": [
    "a = {''}\n",
    "a"
   ]
  },
  {
   "cell_type": "code",
   "execution_count": 24,
   "id": "c5034b48",
   "metadata": {},
   "outputs": [
    {
     "data": {
      "text/plain": [
       "set"
      ]
     },
     "execution_count": 24,
     "metadata": {},
     "output_type": "execute_result"
    }
   ],
   "source": [
    "type(a)"
   ]
  },
  {
   "cell_type": "code",
   "execution_count": 25,
   "id": "c41d099d",
   "metadata": {},
   "outputs": [
    {
     "data": {
      "text/plain": [
       "set()"
      ]
     },
     "execution_count": 25,
     "metadata": {},
     "output_type": "execute_result"
    }
   ],
   "source": [
    "a = set()\n",
    "a"
   ]
  },
  {
   "cell_type": "code",
   "execution_count": 32,
   "id": "e053300b",
   "metadata": {},
   "outputs": [],
   "source": [
    "#add \n",
    "#copy\n",
    "#remove\n",
    "#pop\n",
    "\n",
    "x.add(1000)"
   ]
  },
  {
   "cell_type": "code",
   "execution_count": 33,
   "id": "fbf1f41f",
   "metadata": {},
   "outputs": [
    {
     "data": {
      "text/plain": [
       "{0, 34, 56, 1000, 202022}"
      ]
     },
     "execution_count": 33,
     "metadata": {},
     "output_type": "execute_result"
    }
   ],
   "source": [
    "x"
   ]
  },
  {
   "cell_type": "code",
   "execution_count": 35,
   "id": "a1a9ef54",
   "metadata": {},
   "outputs": [],
   "source": [
    "# copy\n",
    "y = x.copy()\n",
    "\n"
   ]
  },
  {
   "cell_type": "code",
   "execution_count": 36,
   "id": "1bbf1f7c",
   "metadata": {},
   "outputs": [
    {
     "data": {
      "text/plain": [
       "{0, 34, 56, 1000, 202022}"
      ]
     },
     "execution_count": 36,
     "metadata": {},
     "output_type": "execute_result"
    }
   ],
   "source": [
    "y"
   ]
  },
  {
   "cell_type": "code",
   "execution_count": null,
   "id": "2bed3f63",
   "metadata": {},
   "outputs": [],
   "source": [
    "# remove"
   ]
  },
  {
   "cell_type": "code",
   "execution_count": 41,
   "id": "d9f2c74f",
   "metadata": {},
   "outputs": [
    {
     "data": {
      "text/plain": [
       "0"
      ]
     },
     "execution_count": 41,
     "metadata": {},
     "output_type": "execute_result"
    }
   ],
   "source": [
    "x.pop()"
   ]
  },
  {
   "cell_type": "code",
   "execution_count": 42,
   "id": "9fbd6533",
   "metadata": {},
   "outputs": [
    {
     "data": {
      "text/plain": [
       "{34, 56, 1000, 202022}"
      ]
     },
     "execution_count": 42,
     "metadata": {},
     "output_type": "execute_result"
    }
   ],
   "source": [
    "x"
   ]
  },
  {
   "cell_type": "code",
   "execution_count": 43,
   "id": "a7b1f649",
   "metadata": {},
   "outputs": [
    {
     "data": {
      "text/plain": [
       "34"
      ]
     },
     "execution_count": 43,
     "metadata": {},
     "output_type": "execute_result"
    }
   ],
   "source": [
    "x.pop()"
   ]
  },
  {
   "cell_type": "code",
   "execution_count": 44,
   "id": "023d561b",
   "metadata": {},
   "outputs": [
    {
     "data": {
      "text/plain": [
       "202022"
      ]
     },
     "execution_count": 44,
     "metadata": {},
     "output_type": "execute_result"
    }
   ],
   "source": [
    "x.pop()"
   ]
  },
  {
   "cell_type": "code",
   "execution_count": 45,
   "id": "8b4684a1",
   "metadata": {},
   "outputs": [
    {
     "data": {
      "text/plain": [
       "1000"
      ]
     },
     "execution_count": 45,
     "metadata": {},
     "output_type": "execute_result"
    }
   ],
   "source": [
    "x.pop()"
   ]
  },
  {
   "cell_type": "code",
   "execution_count": 46,
   "id": "f123dc96",
   "metadata": {},
   "outputs": [
    {
     "data": {
      "text/plain": [
       "56"
      ]
     },
     "execution_count": 46,
     "metadata": {},
     "output_type": "execute_result"
    }
   ],
   "source": [
    "x.pop()"
   ]
  },
  {
   "cell_type": "code",
   "execution_count": 49,
   "id": "ecc8113f",
   "metadata": {},
   "outputs": [
    {
     "data": {
      "text/plain": [
       "set()"
      ]
     },
     "execution_count": 49,
     "metadata": {},
     "output_type": "execute_result"
    }
   ],
   "source": [
    "x"
   ]
  },
  {
   "cell_type": "code",
   "execution_count": 51,
   "id": "dd85a489",
   "metadata": {},
   "outputs": [
    {
     "data": {
      "text/plain": [
       "{3, 45, 55, 484, 695, 788, 844, 965}"
      ]
     },
     "execution_count": 51,
     "metadata": {},
     "output_type": "execute_result"
    }
   ],
   "source": [
    "\n",
    "k = {3,45,788,965,695,484,844,55}\n",
    "k"
   ]
  },
  {
   "cell_type": "code",
   "execution_count": 52,
   "id": "db773014",
   "metadata": {},
   "outputs": [],
   "source": [
    "x =(44,3839,48,383,383,22)"
   ]
  },
  {
   "cell_type": "code",
   "execution_count": 53,
   "id": "769653fd",
   "metadata": {},
   "outputs": [
    {
     "data": {
      "text/plain": [
       "(44, 3839, 48, 383, 383, 22)"
      ]
     },
     "execution_count": 53,
     "metadata": {},
     "output_type": "execute_result"
    }
   ],
   "source": [
    "x"
   ]
  },
  {
   "cell_type": "code",
   "execution_count": 54,
   "id": "68aac42a",
   "metadata": {},
   "outputs": [],
   "source": [
    "k = {3,45,788,965,695,484,844,55}\n",
    "x =(44,3839,48,383,383,22)\n"
   ]
  },
  {
   "cell_type": "code",
   "execution_count": 55,
   "id": "4707e2bd",
   "metadata": {},
   "outputs": [
    {
     "data": {
      "text/plain": [
       "({3, 45, 55, 484, 695, 788, 844, 965}, (44, 3839, 48, 383, 383, 22))"
      ]
     },
     "execution_count": 55,
     "metadata": {},
     "output_type": "execute_result"
    }
   ],
   "source": [
    "k ,x"
   ]
  },
  {
   "cell_type": "code",
   "execution_count": 56,
   "id": "881f4e87",
   "metadata": {},
   "outputs": [],
   "source": [
    "x = {10, 1000, (34.0 , 33.0, 90), 'hello', 'python'}"
   ]
  },
  {
   "cell_type": "code",
   "execution_count": 57,
   "id": "f08caf86",
   "metadata": {},
   "outputs": [
    {
     "data": {
      "text/plain": [
       "{(34.0, 33.0, 90), 10, 1000, 'hello', 'python'}"
      ]
     },
     "execution_count": 57,
     "metadata": {},
     "output_type": "execute_result"
    }
   ],
   "source": [
    "x"
   ]
  },
  {
   "cell_type": "code",
   "execution_count": null,
   "id": "6b2c4bcf",
   "metadata": {},
   "outputs": [],
   "source": []
  }
 ],
 "metadata": {
  "kernelspec": {
   "display_name": "Python 3 (ipykernel)",
   "language": "python",
   "name": "python3"
  },
  "language_info": {
   "codemirror_mode": {
    "name": "ipython",
    "version": 3
   },
   "file_extension": ".py",
   "mimetype": "text/x-python",
   "name": "python",
   "nbconvert_exporter": "python",
   "pygments_lexer": "ipython3",
   "version": "3.9.7"
  }
 },
 "nbformat": 4,
 "nbformat_minor": 5
}
