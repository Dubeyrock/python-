{
 "cells": [
  {
   "cell_type": "code",
   "execution_count": 8,
   "id": "16993afc",
   "metadata": {},
   "outputs": [],
   "source": [
    "# create a dict \n",
    "#[]\n",
    "#()\n",
    "#{}\n",
    "\n",
    "x = {\n",
    "        'name':'f',\n",
    "        'age':89,\n",
    "        'marks': 56\n",
    "        \n",
    "    }"
   ]
  },
  {
   "cell_type": "code",
   "execution_count": 9,
   "id": "d05e4c58",
   "metadata": {},
   "outputs": [
    {
     "data": {
      "text/plain": [
       "{'name': 'f', 'age': 89, 'marks': 56}"
      ]
     },
     "execution_count": 9,
     "metadata": {},
     "output_type": "execute_result"
    }
   ],
   "source": [
    "x"
   ]
  },
  {
   "cell_type": "code",
   "execution_count": 10,
   "id": "43771db2",
   "metadata": {},
   "outputs": [
    {
     "data": {
      "text/plain": [
       "dict"
      ]
     },
     "execution_count": 10,
     "metadata": {},
     "output_type": "execute_result"
    }
   ],
   "source": [
    "type(x)"
   ]
  },
  {
   "cell_type": "code",
   "execution_count": 11,
   "id": "63f99e93",
   "metadata": {},
   "outputs": [
    {
     "data": {
      "text/plain": [
       "{'name': 'f', 'age': 89, 'marks': 56}"
      ]
     },
     "execution_count": 11,
     "metadata": {},
     "output_type": "execute_result"
    }
   ],
   "source": [
    "#dict---->index,orderway......\n",
    "#slicing with indexing is not possible in dict\n",
    "\n",
    "x"
   ]
  },
  {
   "cell_type": "code",
   "execution_count": 12,
   "id": "e1905b4c",
   "metadata": {},
   "outputs": [
    {
     "ename": "KeyError",
     "evalue": "1",
     "output_type": "error",
     "traceback": [
      "\u001b[1;31m---------------------------------------------------------------------------\u001b[0m",
      "\u001b[1;31mKeyError\u001b[0m                                  Traceback (most recent call last)",
      "\u001b[1;32m~\\AppData\\Local\\Temp/ipykernel_4696/4118936608.py\u001b[0m in \u001b[0;36m<module>\u001b[1;34m\u001b[0m\n\u001b[1;32m----> 1\u001b[1;33m \u001b[0mx\u001b[0m\u001b[1;33m[\u001b[0m\u001b[1;36m1\u001b[0m\u001b[1;33m]\u001b[0m\u001b[1;33m\u001b[0m\u001b[1;33m\u001b[0m\u001b[0m\n\u001b[0m",
      "\u001b[1;31mKeyError\u001b[0m: 1"
     ]
    }
   ],
   "source": [
    "x[1]"
   ]
  },
  {
   "cell_type": "code",
   "execution_count": 13,
   "id": "e0159d5c",
   "metadata": {},
   "outputs": [
    {
     "ename": "KeyError",
     "evalue": "3",
     "output_type": "error",
     "traceback": [
      "\u001b[1;31m---------------------------------------------------------------------------\u001b[0m",
      "\u001b[1;31mKeyError\u001b[0m                                  Traceback (most recent call last)",
      "\u001b[1;32m~\\AppData\\Local\\Temp/ipykernel_4696/2145826956.py\u001b[0m in \u001b[0;36m<module>\u001b[1;34m\u001b[0m\n\u001b[1;32m----> 1\u001b[1;33m \u001b[0mx\u001b[0m\u001b[1;33m[\u001b[0m\u001b[1;36m3\u001b[0m\u001b[1;33m]\u001b[0m\u001b[1;33m\u001b[0m\u001b[1;33m\u001b[0m\u001b[0m\n\u001b[0m",
      "\u001b[1;31mKeyError\u001b[0m: 3"
     ]
    }
   ],
   "source": [
    "x[3]"
   ]
  },
  {
   "cell_type": "code",
   "execution_count": 14,
   "id": "8d954a48",
   "metadata": {},
   "outputs": [
    {
     "data": {
      "text/plain": [
       "{'name': 'f', 'age': 89, 'marks': 56}"
      ]
     },
     "execution_count": 14,
     "metadata": {},
     "output_type": "execute_result"
    }
   ],
   "source": [
    "#dict----->slicing with the help of keys\n",
    "x"
   ]
  },
  {
   "cell_type": "code",
   "execution_count": 15,
   "id": "23cbcc32",
   "metadata": {},
   "outputs": [
    {
     "data": {
      "text/plain": [
       "89"
      ]
     },
     "execution_count": 15,
     "metadata": {},
     "output_type": "execute_result"
    }
   ],
   "source": [
    "x['age']"
   ]
  },
  {
   "cell_type": "code",
   "execution_count": 16,
   "id": "57131479",
   "metadata": {},
   "outputs": [
    {
     "data": {
      "text/plain": [
       "{'name': 'f', 'age': 89, 'marks': 56}"
      ]
     },
     "execution_count": 16,
     "metadata": {},
     "output_type": "execute_result"
    }
   ],
   "source": [
    "x"
   ]
  },
  {
   "cell_type": "code",
   "execution_count": 35,
   "id": "d959895a",
   "metadata": {},
   "outputs": [],
   "source": [
    "x = {\n",
    "    'name':['A','B','c'],\n",
    "    'age':(23,89,90),\n",
    "    'marks':(98,99,100),\n",
    "    'y':{\n",
    "        'hobby':'cricket',\n",
    "        'salary':67\n",
    "    }\n",
    "}"
   ]
  },
  {
   "cell_type": "code",
   "execution_count": 36,
   "id": "e689676c",
   "metadata": {},
   "outputs": [
    {
     "data": {
      "text/plain": [
       "{'name': ['A', 'B', 'c'],\n",
       " 'age': (23, 89, 90),\n",
       " 'marks': (98, 99, 100),\n",
       " 'y': {'hobby': 'cricket', 'salary': 67}}"
      ]
     },
     "execution_count": 36,
     "metadata": {},
     "output_type": "execute_result"
    }
   ],
   "source": [
    "x"
   ]
  },
  {
   "cell_type": "code",
   "execution_count": 19,
   "id": "f91baf9e",
   "metadata": {},
   "outputs": [
    {
     "data": {
      "text/plain": [
       "dict"
      ]
     },
     "execution_count": 19,
     "metadata": {},
     "output_type": "execute_result"
    }
   ],
   "source": [
    "type(x)"
   ]
  },
  {
   "cell_type": "code",
   "execution_count": 20,
   "id": "83814af0",
   "metadata": {},
   "outputs": [],
   "source": [
    "x['name'][1]='shivam'"
   ]
  },
  {
   "cell_type": "code",
   "execution_count": 28,
   "id": "2e342db1",
   "metadata": {},
   "outputs": [
    {
     "data": {
      "text/plain": [
       "{'name': ['A', 'shivam', 'shivam'],\n",
       " 'age': (23, 89, 90),\n",
       " 'marks': (98, 99, 100)}"
      ]
     },
     "execution_count": 28,
     "metadata": {},
     "output_type": "execute_result"
    }
   ],
   "source": [
    "x"
   ]
  },
  {
   "cell_type": "code",
   "execution_count": 29,
   "id": "506c8324",
   "metadata": {},
   "outputs": [],
   "source": [
    "# dict ------>mutable or immutable??\n",
    "x['name']='hemant'"
   ]
  },
  {
   "cell_type": "code",
   "execution_count": 30,
   "id": "8f4616f1",
   "metadata": {},
   "outputs": [
    {
     "data": {
      "text/plain": [
       "{'name': 'hemant', 'age': (23, 89, 90), 'marks': (98, 99, 100)}"
      ]
     },
     "execution_count": 30,
     "metadata": {},
     "output_type": "execute_result"
    }
   ],
   "source": [
    "x"
   ]
  },
  {
   "cell_type": "code",
   "execution_count": 31,
   "id": "5456dffa",
   "metadata": {},
   "outputs": [],
   "source": [
    "x={\n",
    "    'name':['a','b','c'],\n",
    "    'age':(23,90,96),\n",
    "    'marks':(23,87,56),\n",
    "    'y':{\n",
    "        'hobby':'music',\n",
    "        'salary':67\n",
    "    }\n",
    "}\n",
    "# wap to a dict inside a dict."
   ]
  },
  {
   "cell_type": "code",
   "execution_count": 32,
   "id": "87d04225",
   "metadata": {},
   "outputs": [
    {
     "data": {
      "text/plain": [
       "{'name': ['a', 'b', 'c'],\n",
       " 'age': (23, 90, 96),\n",
       " 'marks': (23, 87, 56),\n",
       " 'y': {'hobby': 'music', 'salary': 67}}"
      ]
     },
     "execution_count": 32,
     "metadata": {},
     "output_type": "execute_result"
    }
   ],
   "source": [
    "x"
   ]
  },
  {
   "cell_type": "code",
   "execution_count": 38,
   "id": "d5168bd2",
   "metadata": {},
   "outputs": [],
   "source": [
    "x = {\n",
    "    'name':['a','b','c'],\n",
    "    'age':(23,90,96),\n",
    "    'marks':(23,87,56),\n",
    "    0:1,\n",
    "    1:[879,998],\n",
    "    '0':1,\n",
    "    0 :'1',\n",
    "    0: 'hello python',\n",
    "    'h':\"0 opp!!\",\n",
    "    \n",
    "    # 'y':{\n",
    "    # 'hobby':'cricket',\n",
    "    # 'salary':66000\n",
    "    #}\n",
    "}"
   ]
  },
  {
   "cell_type": "code",
   "execution_count": 39,
   "id": "3db7b0b7",
   "metadata": {},
   "outputs": [
    {
     "data": {
      "text/plain": [
       "{'name': ['a', 'b', 'c'],\n",
       " 'age': (23, 90, 96),\n",
       " 'marks': (23, 87, 56),\n",
       " 0: 'hello python',\n",
       " 1: [879, 998],\n",
       " '0': 1,\n",
       " 'h': '0 opp!!'}"
      ]
     },
     "execution_count": 39,
     "metadata": {},
     "output_type": "execute_result"
    }
   ],
   "source": [
    "#duplicay not allowed in dict.\n",
    "x"
   ]
  },
  {
   "cell_type": "code",
   "execution_count": 40,
   "id": "4a0d43fb",
   "metadata": {},
   "outputs": [],
   "source": [
    "#dict\n",
    "#items \n",
    "#update\n",
    "#key\n",
    "#values\n",
    "\n",
    "\n",
    "y = {\n",
    "    'name':['S','T','L'],\n",
    "    'age': (23,34,89),\n",
    "    'mark': (23,55,67),\n",
    "    \n",
    "    'u':{\n",
    "        '0':100\n",
    "    }\n",
    "}"
   ]
  },
  {
   "cell_type": "code",
   "execution_count": 41,
   "id": "e97238fa",
   "metadata": {},
   "outputs": [
    {
     "data": {
      "text/plain": [
       "{'name': ['S', 'T', 'L'],\n",
       " 'age': (23, 34, 89),\n",
       " 'mark': (23, 55, 67),\n",
       " 'u': {'0': 100}}"
      ]
     },
     "execution_count": 41,
     "metadata": {},
     "output_type": "execute_result"
    }
   ],
   "source": [
    "y"
   ]
  },
  {
   "cell_type": "code",
   "execution_count": null,
   "id": "de698440",
   "metadata": {},
   "outputs": [],
   "source": []
  }
 ],
 "metadata": {
  "kernelspec": {
   "display_name": "Python 3 (ipykernel)",
   "language": "python",
   "name": "python3"
  },
  "language_info": {
   "codemirror_mode": {
    "name": "ipython",
    "version": 3
   },
   "file_extension": ".py",
   "mimetype": "text/x-python",
   "name": "python",
   "nbconvert_exporter": "python",
   "pygments_lexer": "ipython3",
   "version": "3.9.7"
  }
 },
 "nbformat": 4,
 "nbformat_minor": 5
}
